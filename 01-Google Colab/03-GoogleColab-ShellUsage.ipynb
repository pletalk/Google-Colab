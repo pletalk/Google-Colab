{
  "nbformat": 4,
  "nbformat_minor": 0,
  "metadata": {
    "colab": {
      "name": "03-GoogleColab-ShellUsage.ipynb",
      "provenance": [],
      "collapsed_sections": [],
      "toc_visible": true,
      "authorship_tag": "ABX9TyPxydXdwxuGlR1202cA974h",
      "include_colab_link": true
    },
    "kernelspec": {
      "name": "python3",
      "display_name": "Python 3"
    },
    "accelerator": "GPU"
  },
  "cells": [
    {
      "cell_type": "markdown",
      "metadata": {
        "id": "view-in-github",
        "colab_type": "text"
      },
      "source": [
        "<a href=\"https://colab.research.google.com/github/pletalk/EMPV-RPI-AutoDriving/blob/master/01-Google%20Colab/03-GoogleColab-ShellUsage.ipynb\" target=\"_parent\"><img src=\"https://colab.research.google.com/assets/colab-badge.svg\" alt=\"Open In Colab\"/></a>"
      ]
    },
    {
      "cell_type": "markdown",
      "metadata": {
        "id": "q5oRtNitp3cW",
        "colab_type": "text"
      },
      "source": [
        "# Google Colab에서 사용가능한 Shell 명령어 예시\n",
        "@2020-08-01/ignitespark\n",
        "\n",
        "[note]\n",
        "\n",
        "* Google Colab에서 사용 시, 메뉴에서 런타임 > 런타임 유형변경 을 선택하고, GPU/TPU를 설정해야합니다."
      ]
    },
    {
      "cell_type": "markdown",
      "metadata": {
        "id": "00MKLcuqVbqG",
        "colab_type": "text"
      },
      "source": [
        "## [1] 현재 디렉토리 (pwd)\n",
        "\n",
        "명령행을 실행하기 위해서는 !(느낌표)와 %(퍼센트)기호를 사용합니다. '느낌표'는 IPython에 명령을 전달하여 실행(임시적 효과지속)되며, '퍼센트'는 Google Colab에서 magic command로 실행되며, 지속적인 실행효과를 유지합니다."
      ]
    },
    {
      "cell_type": "code",
      "metadata": {
        "id": "qYQv1xbnVb2u",
        "colab_type": "code",
        "colab": {
          "base_uri": "https://localhost:8080/",
          "height": 34
        },
        "outputId": "f62b96cc-7e3d-4fd7-81c7-c71893fcb2d5"
      },
      "source": [
        "! pwd"
      ],
      "execution_count": 1,
      "outputs": [
        {
          "output_type": "stream",
          "text": [
            "/content\n"
          ],
          "name": "stdout"
        }
      ]
    },
    {
      "cell_type": "code",
      "metadata": {
        "id": "IifnK4aGVhUZ",
        "colab_type": "code",
        "colab": {
          "base_uri": "https://localhost:8080/",
          "height": 35
        },
        "outputId": "bab51500-b97c-41f1-eeaf-5b00ee05ae6f"
      },
      "source": [
        "%pwd"
      ],
      "execution_count": 2,
      "outputs": [
        {
          "output_type": "execute_result",
          "data": {
            "application/vnd.google.colaboratory.intrinsic+json": {
              "type": "string"
            },
            "text/plain": [
              "'/content'"
            ]
          },
          "metadata": {
            "tags": []
          },
          "execution_count": 2
        }
      ]
    },
    {
      "cell_type": "markdown",
      "metadata": {
        "id": "dPE2wAblVi7n",
        "colab_type": "text"
      },
      "source": [
        "## [2] 디렉토리 변경하기 (cd)\n",
        "\n",
        "cd(change directory)를 실행하고, 현재 디렉토리를 확인하는 경우, 느낌표에서는 디렉토리가 변경되지 않습니다. 반면, Magic command를 사용하는 경우, 디렉토리가 변경되고 유지 됩니다."
      ]
    },
    {
      "cell_type": "code",
      "metadata": {
        "id": "dElYCj92WS7J",
        "colab_type": "code",
        "colab": {
          "base_uri": "https://localhost:8080/",
          "height": 34
        },
        "outputId": "fb7e190b-d8f4-4f93-98ab-fbf934e707ef"
      },
      "source": [
        "! cd ..\n",
        "! pwd"
      ],
      "execution_count": 3,
      "outputs": [
        {
          "output_type": "stream",
          "text": [
            "/content\n"
          ],
          "name": "stdout"
        }
      ]
    },
    {
      "cell_type": "code",
      "metadata": {
        "id": "Xnl9aXKMWVTS",
        "colab_type": "code",
        "colab": {
          "base_uri": "https://localhost:8080/",
          "height": 51
        },
        "outputId": "2455ec96-a5a3-4330-8d12-7f089634cccd"
      },
      "source": [
        "% cd ..\n",
        "! pwd"
      ],
      "execution_count": 4,
      "outputs": [
        {
          "output_type": "stream",
          "text": [
            "/\n",
            "/\n"
          ],
          "name": "stdout"
        }
      ]
    },
    {
      "cell_type": "markdown",
      "metadata": {
        "id": "5WjQJrj6WkGS",
        "colab_type": "text"
      },
      "source": [
        "## [3] 디렉토리의 목록 확인하기 (ls)\n",
        "디렉토리 리스트(ls)를 표시하여 보여 줍니다."
      ]
    },
    {
      "cell_type": "code",
      "metadata": {
        "id": "agvDsY9-Wt0q",
        "colab_type": "code",
        "colab": {
          "base_uri": "https://localhost:8080/",
          "height": 34
        },
        "outputId": "a3571a53-0188-4e34-cc7b-b869bf5cfac2"
      },
      "source": [
        "! pwd"
      ],
      "execution_count": 5,
      "outputs": [
        {
          "output_type": "stream",
          "text": [
            "/\n"
          ],
          "name": "stdout"
        }
      ]
    },
    {
      "cell_type": "code",
      "metadata": {
        "id": "3H603rGmWvC4",
        "colab_type": "code",
        "colab": {
          "base_uri": "https://localhost:8080/",
          "height": 136
        },
        "outputId": "737f7537-6aff-4605-8754-b2b8b95b3564"
      },
      "source": [
        "# 짧게 결과를 표시\n",
        "! ls   "
      ],
      "execution_count": 6,
      "outputs": [
        {
          "output_type": "stream",
          "text": [
            "bin\t\t\t\t\t   etc\t  opt\t sys\n",
            "boot\t\t\t\t\t   home   proc\t tensorflow-1.15.2\n",
            "content\t\t\t\t\t   lib\t  root\t tmp\n",
            "datalab\t\t\t\t\t   lib32  run\t tools\n",
            "dev\t\t\t\t\t   lib64  sbin\t usr\n",
            "dlib-19.18.0-cp27-cp27mu-linux_x86_64.whl  media  srv\t var\n",
            "dlib-19.18.0-cp36-cp36m-linux_x86_64.whl   mnt\t  swift\n"
          ],
          "name": "stdout"
        }
      ]
    },
    {
      "cell_type": "code",
      "metadata": {
        "id": "4hS9WMjiWwEY",
        "colab_type": "code",
        "colab": {
          "base_uri": "https://localhost:8080/",
          "height": 493
        },
        "outputId": "5e9afbd9-ed94-47c5-d4ae-c4601b98d4b4"
      },
      "source": [
        "# 디렉토리의 목록내용을 길게 자세히 표시\n",
        "! ls -l"
      ],
      "execution_count": 7,
      "outputs": [
        {
          "output_type": "stream",
          "text": [
            "total 8056\n",
            "drwxr-xr-x   1 root root    4096 Jul 30 16:22 bin\n",
            "drwxr-xr-x   2 root root    4096 Apr 24  2018 boot\n",
            "drwxr-xr-x   1 root root    4096 Jul 30 16:30 content\n",
            "drwxr-xr-x   1 root root    4096 Jul 30 16:59 datalab\n",
            "drwxr-xr-x   5 root root     440 Aug  1 02:56 dev\n",
            "-rw-r--r--   1 root root 4078115 Jul 30 16:30 dlib-19.18.0-cp27-cp27mu-linux_x86_64.whl\n",
            "-rw-r--r--   1 root root 4068717 Jul 30 16:30 dlib-19.18.0-cp36-cp36m-linux_x86_64.whl\n",
            "drwxr-xr-x   1 root root    4096 Aug  1 02:56 etc\n",
            "drwxr-xr-x   2 root root    4096 Apr 24  2018 home\n",
            "drwxr-xr-x   1 root root    4096 Jul 30 16:24 lib\n",
            "drwxr-xr-x   2 root root    4096 Jul 30 16:17 lib32\n",
            "drwxr-xr-x   1 root root    4096 Jul 30 16:17 lib64\n",
            "drwxr-xr-x   2 root root    4096 Oct 29  2019 media\n",
            "drwxr-xr-x   2 root root    4096 Oct 29  2019 mnt\n",
            "drwxr-xr-x   1 root root    4096 Aug  1 02:56 opt\n",
            "dr-xr-xr-x 127 root root       0 Aug  1 02:56 proc\n",
            "drwx------   1 root root    4096 Aug  1 02:56 root\n",
            "drwxr-xr-x   1 root root    4096 Jul 30 16:19 run\n",
            "drwxr-xr-x   1 root root    4096 Jul 30 16:22 sbin\n",
            "drwxr-xr-x   2 root root    4096 Oct 29  2019 srv\n",
            "drwxr-xr-x   4 root root    4096 Jul 30 16:59 swift\n",
            "dr-xr-xr-x  12 root root       0 Aug  1 02:56 sys\n",
            "drwxr-xr-x   4 root root    4096 Jul 30 16:54 tensorflow-1.15.2\n",
            "drwxrwxrwt   1 root root    4096 Aug  1 02:56 tmp\n",
            "drwxr-xr-x   1 root root    4096 Jul 30 16:59 tools\n",
            "drwxr-xr-x   1 root root    4096 Aug  1 02:56 usr\n",
            "drwxr-xr-x   1 root root    4096 Aug  1 02:56 var\n"
          ],
          "name": "stdout"
        }
      ]
    },
    {
      "cell_type": "markdown",
      "metadata": {
        "id": "ncY9y8DhWxvc",
        "colab_type": "text"
      },
      "source": [
        "## [4] txt, json의 파일 내용 보기 (cat)"
      ]
    },
    {
      "cell_type": "code",
      "metadata": {
        "id": "v4s2nwJ0XoBY",
        "colab_type": "code",
        "colab": {
          "base_uri": "https://localhost:8080/",
          "height": 34
        },
        "outputId": "a6ec9ab5-2758-45dd-e34f-68a434d06e7b"
      },
      "source": [
        "%cd /content/sample_data"
      ],
      "execution_count": 8,
      "outputs": [
        {
          "output_type": "stream",
          "text": [
            "/content/sample_data\n"
          ],
          "name": "stdout"
        }
      ]
    },
    {
      "cell_type": "code",
      "metadata": {
        "id": "La2jE42iXq0d",
        "colab_type": "code",
        "colab": {
          "base_uri": "https://localhost:8080/",
          "height": 360
        },
        "outputId": "37856369-c610-40fe-835b-2d5995121250"
      },
      "source": [
        "! cat README.md"
      ],
      "execution_count": 9,
      "outputs": [
        {
          "output_type": "stream",
          "text": [
            "This directory includes a few sample datasets to get you started.\n",
            "\n",
            "*   `california_housing_data*.csv` is California housing data from the 1990 US\n",
            "    Census; more information is available at:\n",
            "    https://developers.google.com/machine-learning/crash-course/california-housing-data-description\n",
            "\n",
            "*   `mnist_*.csv` is a small sample of the\n",
            "    [MNIST database](https://en.wikipedia.org/wiki/MNIST_database), which is\n",
            "    described at: http://yann.lecun.com/exdb/mnist/\n",
            "\n",
            "*   `anscombe.json` contains a copy of\n",
            "    [Anscombe's quartet](https://en.wikipedia.org/wiki/Anscombe%27s_quartet); it\n",
            "    was originally described in\n",
            "\n",
            "    Anscombe, F. J. (1973). 'Graphs in Statistical Analysis'. American\n",
            "    Statistician. 27 (1): 17-21. JSTOR 2682899.\n",
            "\n",
            "    and our copy was prepared by the\n",
            "    [vega_datasets library](https://github.com/altair-viz/vega_datasets/blob/4f67bdaad10f45e3549984e17e1b3088c731503d/vega_datasets/_data/anscombe.json).\n"
          ],
          "name": "stdout"
        }
      ]
    },
    {
      "cell_type": "code",
      "metadata": {
        "id": "ts66nTcbXtzx",
        "colab_type": "code",
        "colab": {
          "base_uri": "https://localhost:8080/",
          "height": 850
        },
        "outputId": "1037e6d6-bf49-4a8e-9ee8-bdc2eda209ed"
      },
      "source": [
        "! cat anscombe.json"
      ],
      "execution_count": 10,
      "outputs": [
        {
          "output_type": "stream",
          "text": [
            "[\n",
            "  {\"Series\":\"I\", \"X\":10.0, \"Y\":8.04},\n",
            "  {\"Series\":\"I\", \"X\":8.0, \"Y\":6.95},\n",
            "  {\"Series\":\"I\", \"X\":13.0, \"Y\":7.58},\n",
            "  {\"Series\":\"I\", \"X\":9.0, \"Y\":8.81},\n",
            "  {\"Series\":\"I\", \"X\":11.0, \"Y\":8.33},\n",
            "  {\"Series\":\"I\", \"X\":14.0, \"Y\":9.96},\n",
            "  {\"Series\":\"I\", \"X\":6.0, \"Y\":7.24},\n",
            "  {\"Series\":\"I\", \"X\":4.0, \"Y\":4.26},\n",
            "  {\"Series\":\"I\", \"X\":12.0, \"Y\":10.84},\n",
            "  {\"Series\":\"I\", \"X\":7.0, \"Y\":4.81},\n",
            "  {\"Series\":\"I\", \"X\":5.0, \"Y\":5.68},\n",
            "\n",
            "  {\"Series\":\"II\", \"X\":10.0, \"Y\":9.14},\n",
            "  {\"Series\":\"II\", \"X\":8.0, \"Y\":8.14},\n",
            "  {\"Series\":\"II\", \"X\":13.0, \"Y\":8.74},\n",
            "  {\"Series\":\"II\", \"X\":9.0, \"Y\":8.77},\n",
            "  {\"Series\":\"II\", \"X\":11.0, \"Y\":9.26},\n",
            "  {\"Series\":\"II\", \"X\":14.0, \"Y\":8.10},\n",
            "  {\"Series\":\"II\", \"X\":6.0, \"Y\":6.13},\n",
            "  {\"Series\":\"II\", \"X\":4.0, \"Y\":3.10},\n",
            "  {\"Series\":\"II\", \"X\":12.0, \"Y\":9.13},\n",
            "  {\"Series\":\"II\", \"X\":7.0, \"Y\":7.26},\n",
            "  {\"Series\":\"II\", \"X\":5.0, \"Y\":4.74},\n",
            "\n",
            "  {\"Series\":\"III\", \"X\":10.0, \"Y\":7.46},\n",
            "  {\"Series\":\"III\", \"X\":8.0, \"Y\":6.77},\n",
            "  {\"Series\":\"III\", \"X\":13.0, \"Y\":12.74},\n",
            "  {\"Series\":\"III\", \"X\":9.0, \"Y\":7.11},\n",
            "  {\"Series\":\"III\", \"X\":11.0, \"Y\":7.81},\n",
            "  {\"Series\":\"III\", \"X\":14.0, \"Y\":8.84},\n",
            "  {\"Series\":\"III\", \"X\":6.0, \"Y\":6.08},\n",
            "  {\"Series\":\"III\", \"X\":4.0, \"Y\":5.39},\n",
            "  {\"Series\":\"III\", \"X\":12.0, \"Y\":8.15},\n",
            "  {\"Series\":\"III\", \"X\":7.0, \"Y\":6.42},\n",
            "  {\"Series\":\"III\", \"X\":5.0, \"Y\":5.73},\n",
            "\n",
            "  {\"Series\":\"IV\", \"X\":8.0, \"Y\":6.58},\n",
            "  {\"Series\":\"IV\", \"X\":8.0, \"Y\":5.76},\n",
            "  {\"Series\":\"IV\", \"X\":8.0, \"Y\":7.71},\n",
            "  {\"Series\":\"IV\", \"X\":8.0, \"Y\":8.84},\n",
            "  {\"Series\":\"IV\", \"X\":8.0, \"Y\":8.47},\n",
            "  {\"Series\":\"IV\", \"X\":8.0, \"Y\":7.04},\n",
            "  {\"Series\":\"IV\", \"X\":8.0, \"Y\":5.25},\n",
            "  {\"Series\":\"IV\", \"X\":19.0, \"Y\":12.50},\n",
            "  {\"Series\":\"IV\", \"X\":8.0, \"Y\":5.56},\n",
            "  {\"Series\":\"IV\", \"X\":8.0, \"Y\":7.91},\n",
            "  {\"Series\":\"IV\", \"X\":8.0, \"Y\":6.89}\n",
            "]\n"
          ],
          "name": "stdout"
        }
      ]
    },
    {
      "cell_type": "markdown",
      "metadata": {
        "id": "Wh22FBunXv0Z",
        "colab_type": "text"
      },
      "source": [
        "## [5] 새로운 디렉토리 생성하기 (mkdir)"
      ]
    },
    {
      "cell_type": "code",
      "metadata": {
        "id": "_WZuh4M4X-L6",
        "colab_type": "code",
        "colab": {
          "base_uri": "https://localhost:8080/",
          "height": 33
        },
        "outputId": "92cb1cc7-31f0-4104-f1e8-515994fa4981"
      },
      "source": [
        "%pwd"
      ],
      "execution_count": null,
      "outputs": [
        {
          "output_type": "execute_result",
          "data": {
            "text/plain": [
              "'/content/sample_data'"
            ]
          },
          "metadata": {
            "tags": []
          },
          "execution_count": 14
        }
      ]
    },
    {
      "cell_type": "code",
      "metadata": {
        "id": "ZaoQ95_vX-5Q",
        "colab_type": "code",
        "colab": {
          "base_uri": "https://localhost:8080/",
          "height": 33
        },
        "outputId": "8c8f842c-656a-4a2a-bf5f-4a078c17a0c7"
      },
      "source": [
        "%cd .."
      ],
      "execution_count": null,
      "outputs": [
        {
          "output_type": "stream",
          "text": [
            "/content\n"
          ],
          "name": "stdout"
        }
      ]
    },
    {
      "cell_type": "code",
      "metadata": {
        "id": "tPBlByxMYA0z",
        "colab_type": "code",
        "colab": {}
      },
      "source": [
        "!mkdir test_directory"
      ],
      "execution_count": null,
      "outputs": []
    },
    {
      "cell_type": "code",
      "metadata": {
        "id": "GZ1sO_R4YEPm",
        "colab_type": "code",
        "colab": {
          "base_uri": "https://localhost:8080/",
          "height": 67
        },
        "outputId": "307df906-5c86-406e-dc62-45c865dd32e0"
      },
      "source": [
        "%ls -l"
      ],
      "execution_count": null,
      "outputs": [
        {
          "output_type": "stream",
          "text": [
            "total 8\n",
            "drwxr-xr-x 1 root root 4096 May 29 18:19 \u001b[0m\u001b[01;34msample_data\u001b[0m/\n",
            "drwxr-xr-x 2 root root 4096 Jun  7 10:43 \u001b[01;34mtest_directory\u001b[0m/\n"
          ],
          "name": "stdout"
        }
      ]
    },
    {
      "cell_type": "markdown",
      "metadata": {
        "id": "ctpWuTjtYMe9",
        "colab_type": "text"
      },
      "source": [
        "## [6] 디렉토리 삭제하기 (rm)\n",
        "\n",
        "지정된 디렉토리명을 삭제합니다. 만일, 디렉토리 아래의 파일과 하위 디렉토리가 있다면, 모두 삭제하기 위해서는 -rf (반복 및 강제삭제) 옵션을 설정해야합니다. 예시는 다음과 같습니다.\n",
        "\n",
        "```\n",
        "rm -rf test_directory\n",
        "```"
      ]
    },
    {
      "cell_type": "code",
      "metadata": {
        "id": "d7UpRYECYZmQ",
        "colab_type": "code",
        "colab": {}
      },
      "source": [
        "%rm -rf test_directory"
      ],
      "execution_count": 11,
      "outputs": []
    },
    {
      "cell_type": "code",
      "metadata": {
        "id": "4dVifFH7YbFs",
        "colab_type": "code",
        "colab": {
          "base_uri": "https://localhost:8080/",
          "height": 136
        },
        "outputId": "1115046a-c19a-4970-ea01-97a21f521977"
      },
      "source": [
        "%ls -l"
      ],
      "execution_count": 12,
      "outputs": [
        {
          "output_type": "stream",
          "text": [
            "total 55504\n",
            "-rwxr-xr-x 1 root root     1697 Jan  1  2000 \u001b[0m\u001b[01;32manscombe.json\u001b[0m*\n",
            "-rw-r--r-- 1 root root   301141 Jul 30 16:30 california_housing_test.csv\n",
            "-rw-r--r-- 1 root root  1706430 Jul 30 16:30 california_housing_train.csv\n",
            "-rw-r--r-- 1 root root 18289443 Jul 30 16:30 mnist_test.csv\n",
            "-rw-r--r-- 1 root root 36523880 Jul 30 16:30 mnist_train_small.csv\n",
            "-rwxr-xr-x 1 root root      930 Jan  1  2000 \u001b[01;32mREADME.md\u001b[0m*\n"
          ],
          "name": "stdout"
        }
      ]
    },
    {
      "cell_type": "markdown",
      "metadata": {
        "id": "uNjdQpbsYhdF",
        "colab_type": "text"
      },
      "source": [
        "## [7] 실행시간 측정하기 (%time)\n",
        "\n",
        "명령행, 함수, 패키지 로딩등 다양한 환경에서 해당 행의 수행에 따른 시간을 측정할 수 있습니다."
      ]
    },
    {
      "cell_type": "code",
      "metadata": {
        "id": "3ABCB_oUaxGE",
        "colab_type": "code",
        "colab": {
          "base_uri": "https://localhost:8080/",
          "height": 68
        },
        "outputId": "efc3075a-43a8-428e-cd22-ee28bdfe11ce"
      },
      "source": [
        "%time 3+4"
      ],
      "execution_count": 13,
      "outputs": [
        {
          "output_type": "stream",
          "text": [
            "CPU times: user 2 µs, sys: 1e+03 ns, total: 3 µs\n",
            "Wall time: 5.72 µs\n"
          ],
          "name": "stdout"
        },
        {
          "output_type": "execute_result",
          "data": {
            "text/plain": [
              "7"
            ]
          },
          "metadata": {
            "tags": []
          },
          "execution_count": 13
        }
      ]
    },
    {
      "cell_type": "code",
      "metadata": {
        "id": "ItmOaGHYbPbE",
        "colab_type": "code",
        "colab": {
          "base_uri": "https://localhost:8080/",
          "height": 51
        },
        "outputId": "6c96eb46-5b9e-499e-f438-ee7001052014"
      },
      "source": [
        "%time import pandas as pd"
      ],
      "execution_count": 14,
      "outputs": [
        {
          "output_type": "stream",
          "text": [
            "CPU times: user 6 µs, sys: 1e+03 ns, total: 7 µs\n",
            "Wall time: 10.7 µs\n"
          ],
          "name": "stdout"
        }
      ]
    },
    {
      "cell_type": "markdown",
      "metadata": {
        "id": "icm9B3d-axu_",
        "colab_type": "text"
      },
      "source": [
        "## [8] matplotlib 이미지를 Google Colab의 라인으로 추가하기 (inline)\n",
        "\n",
        "Google Colab에서 기본적으로 inline으로 그래프가 추가됩니다.\n",
        "\n"
      ]
    },
    {
      "cell_type": "code",
      "metadata": {
        "id": "s-Mg9rRbayH_",
        "colab_type": "code",
        "colab": {}
      },
      "source": [
        "%matplotlib inline"
      ],
      "execution_count": 15,
      "outputs": []
    },
    {
      "cell_type": "code",
      "metadata": {
        "id": "1_FgpBvp9Sp8",
        "colab_type": "code",
        "colab": {}
      },
      "source": [
        "x = [1,2,3,4,5]\n",
        "y = [3,5,8,12,17]\n",
        "\n",
        "import matplotlib.pyplot as plt"
      ],
      "execution_count": 17,
      "outputs": []
    },
    {
      "cell_type": "code",
      "metadata": {
        "id": "v2GhmCWE9eeb",
        "colab_type": "code",
        "colab": {
          "base_uri": "https://localhost:8080/",
          "height": 265
        },
        "outputId": "0fbd1b73-24e6-4bf9-8f5a-b1723ed34b11"
      },
      "source": [
        "_ = plt.plot(x,y)"
      ],
      "execution_count": 19,
      "outputs": [
        {
          "output_type": "display_data",
          "data": {
            "image/png": "[encoded data removed]",
            "text/plain": [
              "<Figure size 432x288 with 1 Axes>"
            ]
          },
          "metadata": {
            "tags": [],
            "needs_background": "light"
          }
        }
      ]
    },
    {
      "cell_type": "markdown",
      "metadata": {
        "id": "_JS5XGMpbgTN",
        "colab_type": "text"
      },
      "source": [
        "## [9] 명령행 히스토리 보기 (%history)"
      ]
    },
    {
      "cell_type": "code",
      "metadata": {
        "id": "MFXygobNbkM0",
        "colab_type": "code",
        "colab": {
          "base_uri": "https://localhost:8080/",
          "height": 476
        },
        "outputId": "36b82178-71b6-4f9b-e798-58a40809a923"
      },
      "source": [
        "%history"
      ],
      "execution_count": 20,
      "outputs": [
        {
          "output_type": "stream",
          "text": [
            "! pwd\n",
            "%pwd\n",
            "! cd ..\n",
            "! pwd\n",
            "% cd ..\n",
            "! pwd\n",
            "! pwd\n",
            "# 짧게 결과를 표시\n",
            "! ls\n",
            "# 디렉토리의 목록내용을 길게 자세히 표시\n",
            "! ls -l\n",
            "%cd /content/sample_data\n",
            "! cat README.md\n",
            "! cat anscombe.json\n",
            "%rm -rf test_directory\n",
            "%ls -l\n",
            "%time 3+4\n",
            "%time import pandas as pd\n",
            "%matplotlib inline\n",
            "%history\n",
            "x = [1,2,3,4,5]\n",
            "y = [3,5,8,12,17]\n",
            "\n",
            "import matplotlib.pyplot as plt\n",
            "plt.plot(x,y)\n",
            "_ = plt.plot(x,y)\n",
            "%history\n"
          ],
          "name": "stdout"
        }
      ]
    },
    {
      "cell_type": "markdown",
      "metadata": {
        "id": "vTAeRpMHblno",
        "colab_type": "text"
      },
      "source": [
        "## [10] Google Colab에서 사용가능한 Magic Command 목록보기 (%lsmagic)"
      ]
    },
    {
      "cell_type": "code",
      "metadata": {
        "id": "Vv0f0yEubxs5",
        "colab_type": "code",
        "colab": {
          "base_uri": "https://localhost:8080/",
          "height": 156
        },
        "outputId": "1dc2e9b4-60f7-4c55-9e68-a3c4554248a8"
      },
      "source": [
        "%lsmagic"
      ],
      "execution_count": 21,
      "outputs": [
        {
          "output_type": "execute_result",
          "data": {
            "application/json": {
              "cell": {
                "prun": "ExecutionMagics",
                "file": "Other",
                "!": "OSMagics",
                "capture": "ExecutionMagics",
                "timeit": "ExecutionMagics",
                "script": "ScriptMagics",
                "pypy": "Other",
                "system": "OSMagics",
                "perl": "Other",
                "html": "DisplayMagics",
                "bash": "Other",
                "shell": "Other",
                "HTML": "Other",
                "python": "Other",
                "SVG": "Other",
                "javascript": "DisplayMagics",
                "bigquery": "Other",
                "js": "DisplayMagics",
                "writefile": "OSMagics",
                "ruby": "Other",
                "python3": "Other",
                "python2": "Other",
                "latex": "DisplayMagics",
                "sx": "OSMagics",
                "svg": "DisplayMagics",
                "sh": "Other",
                "time": "ExecutionMagics",
                "debug": "ExecutionMagics"
              },
              "line": {
                "psource": "NamespaceMagics",
                "logstart": "LoggingMagics",
                "popd": "OSMagics",
                "tensorflow_version": "Other",
                "loadpy": "CodeMagics",
                "colors": "BasicMagics",
                "who_ls": "NamespaceMagics",
                "lf": "Other",
                "ll": "Other",
                "pprint": "BasicMagics",
                "lk": "Other",
                "ls": "Other",
                "save": "CodeMagics",
                "tb": "ExecutionMagics",
                "lx": "Other",
                "pylab": "PylabMagics",
                "killbgscripts": "ScriptMagics",
                "quickref": "BasicMagics",
                "magic": "BasicMagics",
                "dhist": "OSMagics",
                "edit": "KernelMagics",
                "logstop": "LoggingMagics",
                "gui": "BasicMagics",
                "prun": "ExecutionMagics",
                "debug": "ExecutionMagics",
                "page": "BasicMagics",
                "logstate": "LoggingMagics",
                "ed": "Other",
                "pushd": "OSMagics",
                "timeit": "ExecutionMagics",
                "set_env": "OSMagics",
                "rehashx": "OSMagics",
                "hist": "Other",
                "qtconsole": "KernelMagics",
                "rm": "Other",
                "dirs": "OSMagics",
                "run": "ExecutionMagics",
                "reset_selective": "NamespaceMagics",
                "pinfo2": "NamespaceMagics",
                "matplotlib": "PylabMagics",
                "unload_ext": "ExtensionMagics",
                "doctest_mode": "BasicMagics",
                "logoff": "LoggingMagics",
                "reload_ext": "ExtensionMagics",
                "pdb": "ExecutionMagics",
                "load": "CodeMagics",
                "lsmagic": "BasicMagics",
                "autosave": "KernelMagics",
                "cd": "OSMagics",
                "pastebin": "CodeMagics",
                "alias_magic": "BasicMagics",
                "cp": "Other",
                "autocall": "AutoMagics",
                "ldir": "Other",
                "bookmark": "OSMagics",
                "connect_info": "KernelMagics",
                "mkdir": "Other",
                "system": "OSMagics",
                "whos": "NamespaceMagics",
                "rmdir": "Other",
                "automagic": "AutoMagics",
                "store": "StoreMagics",
                "more": "KernelMagics",
                "shell": "Other",
                "pdef": "NamespaceMagics",
                "precision": "BasicMagics",
                "pinfo": "NamespaceMagics",
                "pwd": "OSMagics",
                "psearch": "NamespaceMagics",
                "reset": "NamespaceMagics",
                "recall": "HistoryMagics",
                "xdel": "NamespaceMagics",
                "xmode": "BasicMagics",
                "cat": "Other",
                "mv": "Other",
                "rerun": "HistoryMagics",
                "logon": "LoggingMagics",
                "history": "HistoryMagics",
                "pycat": "OSMagics",
                "pip": "Other",
                "unalias": "OSMagics",
                "env": "OSMagics",
                "load_ext": "ExtensionMagics",
                "config": "ConfigMagics",
                "profile": "BasicMagics",
                "pfile": "NamespaceMagics",
                "less": "KernelMagics",
                "who": "NamespaceMagics",
                "notebook": "BasicMagics",
                "man": "KernelMagics",
                "sx": "OSMagics",
                "macro": "ExecutionMagics",
                "clear": "KernelMagics",
                "alias": "OSMagics",
                "time": "ExecutionMagics",
                "sc": "OSMagics",
                "rep": "Other",
                "pdoc": "NamespaceMagics"
              }
            },
            "text/plain": [
              "Available line magics:\n",
              "%alias  %alias_magic  %autocall  %automagic  %autosave  %bookmark  %cat  %cd  %clear  %colors  %config  %connect_info  %cp  %debug  %dhist  %dirs  %doctest_mode  %ed  %edit  %env  %gui  %hist  %history  %killbgscripts  %ldir  %less  %lf  %lk  %ll  %load  %load_ext  %loadpy  %logoff  %logon  %logstart  %logstate  %logstop  %ls  %lsmagic  %lx  %macro  %magic  %man  %matplotlib  %mkdir  %more  %mv  %notebook  %page  %pastebin  %pdb  %pdef  %pdoc  %pfile  %pinfo  %pinfo2  %pip  %popd  %pprint  %precision  %profile  %prun  %psearch  %psource  %pushd  %pwd  %pycat  %pylab  %qtconsole  %quickref  %recall  %rehashx  %reload_ext  %rep  %rerun  %reset  %reset_selective  %rm  %rmdir  %run  %save  %sc  %set_env  %shell  %store  %sx  %system  %tb  %tensorflow_version  %time  %timeit  %unalias  %unload_ext  %who  %who_ls  %whos  %xdel  %xmode\n",
              "\n",
              "Available cell magics:\n",
              "%%!  %%HTML  %%SVG  %%bash  %%bigquery  %%capture  %%debug  %%file  %%html  %%javascript  %%js  %%latex  %%perl  %%prun  %%pypy  %%python  %%python2  %%python3  %%ruby  %%script  %%sh  %%shell  %%svg  %%sx  %%system  %%time  %%timeit  %%writefile\n",
              "\n",
              "Automagic is ON, % prefix IS NOT needed for line magics."
            ]
          },
          "metadata": {
            "tags": []
          },
          "execution_count": 21
        }
      ]
    },
    {
      "cell_type": "code",
      "metadata": {
        "id": "GcYfERRJb24y",
        "colab_type": "code",
        "colab": {}
      },
      "source": [
        "# %magic의 도움말 창이 별도로 표시 (명령어별 설명)\n",
        "%magic"
      ],
      "execution_count": 22,
      "outputs": []
    },
    {
      "cell_type": "markdown",
      "metadata": {
        "id": "L2m1sDxxb-2a",
        "colab_type": "text"
      },
      "source": [
        "## [11] github에서 코드 가져와서 설치하기 (git clone)\n",
        "\n",
        "https://github.com/ 사이트에서 오픈소스 가져와서 디렉토리를 생성하여 복사합니다.\n",
        "\n",
        "* 예를 들어, DonkeyCar의 github사이트에 접속하여 clone/download(초록색 버튼)의 주소를 복사합니다( https://로 시작하는 링크)\n",
        "* donkeycar라는 디렉토리가 생성되면서 해당 소스코드가 복사됩니다."
      ]
    },
    {
      "cell_type": "code",
      "metadata": {
        "id": "0UMzzLXddhhV",
        "colab_type": "code",
        "colab": {
          "base_uri": "https://localhost:8080/",
          "height": 34
        },
        "outputId": "d4c70fc7-2a80-4118-f24a-3e53bba1dbe5"
      },
      "source": [
        "%cd /content"
      ],
      "execution_count": 23,
      "outputs": [
        {
          "output_type": "stream",
          "text": [
            "/content\n"
          ],
          "name": "stdout"
        }
      ]
    },
    {
      "cell_type": "code",
      "metadata": {
        "id": "Bgwh4f-Ydmnt",
        "colab_type": "code",
        "colab": {
          "base_uri": "https://localhost:8080/",
          "height": 35
        },
        "outputId": "9acf91b3-5ddd-472c-f13b-648cb0c2db23"
      },
      "source": [
        "%pwd"
      ],
      "execution_count": 24,
      "outputs": [
        {
          "output_type": "execute_result",
          "data": {
            "application/vnd.google.colaboratory.intrinsic+json": {
              "type": "string"
            },
            "text/plain": [
              "'/content'"
            ]
          },
          "metadata": {
            "tags": []
          },
          "execution_count": 24
        }
      ]
    },
    {
      "cell_type": "code",
      "metadata": {
        "id": "5hy5b0J1c0vr",
        "colab_type": "code",
        "colab": {
          "base_uri": "https://localhost:8080/",
          "height": 136
        },
        "outputId": "0c8d3a70-2c25-4e79-fa16-a5e0e84e5865"
      },
      "source": [
        "!git clone https://github.com/autorope/donkeycar"
      ],
      "execution_count": 25,
      "outputs": [
        {
          "output_type": "stream",
          "text": [
            "Cloning into 'donkeycar'...\n",
            "remote: Enumerating objects: 61, done.\u001b[K\n",
            "remote: Counting objects: 100% (61/61), done.\u001b[K\n",
            "remote: Compressing objects: 100% (52/52), done.\u001b[K\n",
            "remote: Total 13207 (delta 17), reused 33 (delta 7), pack-reused 13146\u001b[K\n",
            "Receiving objects: 100% (13207/13207), 77.65 MiB | 41.74 MiB/s, done.\n",
            "Resolving deltas: 100% (8335/8335), done.\n"
          ],
          "name": "stdout"
        }
      ]
    },
    {
      "cell_type": "code",
      "metadata": {
        "id": "6D2EIu20doO_",
        "colab_type": "code",
        "colab": {
          "base_uri": "https://localhost:8080/",
          "height": 68
        },
        "outputId": "7021ee97-7817-4337-d9b1-b7dd58c7929c"
      },
      "source": [
        "%ls -l"
      ],
      "execution_count": 26,
      "outputs": [
        {
          "output_type": "stream",
          "text": [
            "total 8\n",
            "drwxr-xr-x 7 root root 4096 Aug  1 03:00 \u001b[0m\u001b[01;34mdonkeycar\u001b[0m/\n",
            "drwxr-xr-x 1 root root 4096 Jul 30 16:30 \u001b[01;34msample_data\u001b[0m/\n"
          ],
          "name": "stdout"
        }
      ]
    },
    {
      "cell_type": "code",
      "metadata": {
        "id": "pTH_wLgqfN05",
        "colab_type": "code",
        "colab": {
          "base_uri": "https://localhost:8080/",
          "height": 255
        },
        "outputId": "c3ede2c1-0ca3-4c62-d474-ceb8d19925b4"
      },
      "source": [
        "%cd donkeycar\n",
        "%ls -l"
      ],
      "execution_count": 27,
      "outputs": [
        {
          "output_type": "stream",
          "text": [
            "/content/donkeycar\n",
            "total 48\n",
            "-rw-r--r-- 1 root root  811 Aug  1 03:00 Dockerfile\n",
            "drwxr-xr-x 6 root root 4096 Aug  1 03:00 \u001b[0m\u001b[01;34mdocs\u001b[0m/\n",
            "drwxr-xr-x 8 root root 4096 Aug  1 03:00 \u001b[01;34mdonkeycar\u001b[0m/\n",
            "drwxr-xr-x 4 root root 4096 Aug  1 03:00 \u001b[01;34minstall\u001b[0m/\n",
            "-rw-r--r-- 1 root root 1068 Aug  1 03:00 LICENSE\n",
            "-rw-r--r-- 1 root root   51 Aug  1 03:00 Makefile\n",
            "-rw-r--r-- 1 root root  108 Aug  1 03:00 MANIFEST.in\n",
            "-rw-r--r-- 1 root root 1327 Aug  1 03:00 mkdocs.yml\n",
            "-rw-r--r-- 1 root root 2437 Aug  1 03:00 README.md\n",
            "drwxr-xr-x 2 root root 4096 Aug  1 03:00 \u001b[01;34mscripts\u001b[0m/\n",
            "-rw-r--r-- 1 root root   40 Aug  1 03:00 setup.cfg\n",
            "-rw-r--r-- 1 root root 3387 Aug  1 03:00 setup.py\n"
          ],
          "name": "stdout"
        }
      ]
    },
    {
      "cell_type": "markdown",
      "metadata": {
        "id": "CMc2HUPSfwYT",
        "colab_type": "text"
      },
      "source": [
        "## [12] 실행 프로그램 존재 확인(위치포함)하기  (which)"
      ]
    },
    {
      "cell_type": "code",
      "metadata": {
        "id": "Vn79Tg1-f4iu",
        "colab_type": "code",
        "colab": {
          "base_uri": "https://localhost:8080/",
          "height": 34
        },
        "outputId": "26beef24-57db-4cee-ad06-93596ef06f29"
      },
      "source": [
        "!which python"
      ],
      "execution_count": 28,
      "outputs": [
        {
          "output_type": "stream",
          "text": [
            "/usr/local/bin/python\n"
          ],
          "name": "stdout"
        }
      ]
    },
    {
      "cell_type": "code",
      "metadata": {
        "id": "jnEsDsfegBRx",
        "colab_type": "code",
        "colab": {
          "base_uri": "https://localhost:8080/",
          "height": 34
        },
        "outputId": "26604261-81dc-44ad-b204-05d71520c5e7"
      },
      "source": [
        "!which pwd"
      ],
      "execution_count": 29,
      "outputs": [
        {
          "output_type": "stream",
          "text": [
            "/bin/pwd\n"
          ],
          "name": "stdout"
        }
      ]
    },
    {
      "cell_type": "markdown",
      "metadata": {
        "id": "w5hUQxlLfRyi",
        "colab_type": "text"
      },
      "source": [
        "## [13] 파일이나 데이타(압축파일) 다운로드하기 (wget)"
      ]
    },
    {
      "cell_type": "code",
      "metadata": {
        "id": "Q9LKwLMaf6_U",
        "colab_type": "code",
        "colab": {
          "base_uri": "https://localhost:8080/",
          "height": 34
        },
        "outputId": "dae90814-0705-4f2d-e1f4-567d74a6c260"
      },
      "source": [
        "!which wget"
      ],
      "execution_count": 30,
      "outputs": [
        {
          "output_type": "stream",
          "text": [
            "/usr/bin/wget\n"
          ],
          "name": "stdout"
        }
      ]
    },
    {
      "cell_type": "code",
      "metadata": {
        "id": "mlOCcNfnfe9I",
        "colab_type": "code",
        "colab": {
          "base_uri": "https://localhost:8080/",
          "height": 34
        },
        "outputId": "d87b6dbe-8e57-4365-82bd-8d37405d420c"
      },
      "source": [
        "# 다운로드할 디렉토리 만들기\n",
        "%cd /content\n",
        "%mkdir downloads"
      ],
      "execution_count": 31,
      "outputs": [
        {
          "output_type": "stream",
          "text": [
            "/content\n"
          ],
          "name": "stdout"
        }
      ]
    },
    {
      "cell_type": "code",
      "metadata": {
        "id": "IgbIDO9MfoRB",
        "colab_type": "code",
        "colab": {
          "base_uri": "https://localhost:8080/",
          "height": 85
        },
        "outputId": "e348f496-d511-473a-8e8d-07e446796ef5"
      },
      "source": [
        "%ls -l"
      ],
      "execution_count": 32,
      "outputs": [
        {
          "output_type": "stream",
          "text": [
            "total 12\n",
            "drwxr-xr-x 7 root root 4096 Aug  1 03:00 \u001b[0m\u001b[01;34mdonkeycar\u001b[0m/\n",
            "drwxr-xr-x 2 root root 4096 Aug  1 03:00 \u001b[01;34mdownloads\u001b[0m/\n",
            "drwxr-xr-x 1 root root 4096 Jul 30 16:30 \u001b[01;34msample_data\u001b[0m/\n"
          ],
          "name": "stdout"
        }
      ]
    },
    {
      "cell_type": "code",
      "metadata": {
        "id": "M10PP751gVxE",
        "colab_type": "code",
        "colab": {
          "base_uri": "https://localhost:8080/",
          "height": 34
        },
        "outputId": "5aefcb1d-9917-403d-fd5a-64eada222e7c"
      },
      "source": [
        "# 다운로드할 디렉토리로 이동\n",
        "%cd downloads"
      ],
      "execution_count": 33,
      "outputs": [
        {
          "output_type": "stream",
          "text": [
            "/content/downloads\n"
          ],
          "name": "stdout"
        }
      ]
    },
    {
      "cell_type": "code",
      "metadata": {
        "id": "zXVr1DNDgi7Q",
        "colab_type": "code",
        "colab": {
          "base_uri": "https://localhost:8080/",
          "height": 309
        },
        "outputId": "d12cb107-88df-48ea-8fe6-dabccf9391c7"
      },
      "source": [
        "!wget https://github.com/autorope/donkeycar/raw/dev/docs/assets/build_hardware/donkey2.png"
      ],
      "execution_count": 34,
      "outputs": [
        {
          "output_type": "stream",
          "text": [
            "--2020-08-01 03:01:07--  https://github.com/autorope/donkeycar/raw/dev/docs/assets/build_hardware/donkey2.png\n",
            "Resolving github.com (github.com)... 192.30.255.112\n",
            "Connecting to github.com (github.com)|192.30.255.112|:443... connected.\n",
            "HTTP request sent, awaiting response... 302 Found\n",
            "Location: https://raw.githubusercontent.com/autorope/donkeycar/dev/docs/assets/build_hardware/donkey2.png [following]\n",
            "--2020-08-01 03:01:07--  https://raw.githubusercontent.com/autorope/donkeycar/dev/docs/assets/build_hardware/donkey2.png\n",
            "Resolving raw.githubusercontent.com (raw.githubusercontent.com)... 151.101.0.133, 151.101.64.133, 151.101.128.133, ...\n",
            "Connecting to raw.githubusercontent.com (raw.githubusercontent.com)|151.101.0.133|:443... connected.\n",
            "HTTP request sent, awaiting response... 200 OK\n",
            "Length: 543635 (531K) [image/png]\n",
            "Saving to: ‘donkey2.png’\n",
            "\n",
            "\rdonkey2.png           0%[                    ]       0  --.-KB/s               \rdonkey2.png         100%[===================>] 530.89K  --.-KB/s    in 0.04s   \n",
            "\n",
            "2020-08-01 03:01:08 (13.3 MB/s) - ‘donkey2.png’ saved [543635/543635]\n",
            "\n"
          ],
          "name": "stdout"
        }
      ]
    },
    {
      "cell_type": "code",
      "metadata": {
        "id": "guiFkTV0gr4l",
        "colab_type": "code",
        "colab": {
          "base_uri": "https://localhost:8080/",
          "height": 51
        },
        "outputId": "2061b137-bebc-4e11-ab80-6c4953d0805a"
      },
      "source": [
        "%ls -l"
      ],
      "execution_count": 35,
      "outputs": [
        {
          "output_type": "stream",
          "text": [
            "total 532\n",
            "-rw-r--r-- 1 root root 543635 Aug  1 03:01 donkey2.png\n"
          ],
          "name": "stdout"
        }
      ]
    },
    {
      "cell_type": "markdown",
      "metadata": {
        "id": "6jHUBxjH-gu8",
        "colab_type": "text"
      },
      "source": [
        "### <로딩된 이미지 표시하기>"
      ]
    },
    {
      "cell_type": "code",
      "metadata": {
        "id": "xaK7O3Hg93ZL",
        "colab_type": "code",
        "colab": {
          "base_uri": "https://localhost:8080/",
          "height": 286
        },
        "outputId": "3ac0a910-f383-40b2-fab2-576e4752395d"
      },
      "source": [
        "import matplotlib.image as mpimg\n",
        "image = mpimg.imread('donkey2.png')\n",
        "plt.imshow(image)"
      ],
      "execution_count": 38,
      "outputs": [
        {
          "output_type": "execute_result",
          "data": {
            "text/plain": [
              "<matplotlib.image.AxesImage at 0x7fccd80472e8>"
            ]
          },
          "metadata": {
            "tags": []
          },
          "execution_count": 38
        },
        {
          "output_type": "display_data",
          "data": {
            "image/png": "[encoded data removed]",
            "text/plain": [
              "<Figure size 432x288 with 1 Axes>"
            ]
          },
          "metadata": {
            "tags": [],
            "needs_background": "light"
          }
        }
      ]
    },
    {
      "cell_type": "markdown",
      "metadata": {
        "id": "53Iqs7kIgudl",
        "colab_type": "text"
      },
      "source": [
        "## [14] 압축파일 다운로드 받고 압축풀기 (tar)"
      ]
    },
    {
      "cell_type": "code",
      "metadata": {
        "id": "EFoDgmw2g8DS",
        "colab_type": "code",
        "colab": {
          "base_uri": "https://localhost:8080/",
          "height": 35
        },
        "outputId": "499c29fe-6a88-45ef-c930-14443c9cf5aa"
      },
      "source": [
        "%pwd"
      ],
      "execution_count": 39,
      "outputs": [
        {
          "output_type": "execute_result",
          "data": {
            "application/vnd.google.colaboratory.intrinsic+json": {
              "type": "string"
            },
            "text/plain": [
              "'/content/downloads'"
            ]
          },
          "metadata": {
            "tags": []
          },
          "execution_count": 39
        }
      ]
    },
    {
      "cell_type": "code",
      "metadata": {
        "id": "xXjJy5Mmg-DM",
        "colab_type": "code",
        "colab": {
          "base_uri": "https://localhost:8080/",
          "height": 204
        },
        "outputId": "88406bed-cf7a-4ad4-d2b5-0f5f2ee87609"
      },
      "source": [
        "# 딥러닝 학습을 위해서 사용되는 애완동물 사진묶음을 다운로드\n",
        "!wget https://www.robots.ox.ac.uk/~vgg/data/pets/data/images.tar.gz"
      ],
      "execution_count": 40,
      "outputs": [
        {
          "output_type": "stream",
          "text": [
            "--2020-08-01 03:04:37--  https://www.robots.ox.ac.uk/~vgg/data/pets/data/images.tar.gz\n",
            "Resolving www.robots.ox.ac.uk (www.robots.ox.ac.uk)... 129.67.94.2\n",
            "Connecting to www.robots.ox.ac.uk (www.robots.ox.ac.uk)|129.67.94.2|:443... connected.\n",
            "HTTP request sent, awaiting response... 200 OK\n",
            "Length: 791918971 (755M) [application/x-gzip]\n",
            "Saving to: ‘images.tar.gz’\n",
            "\n",
            "images.tar.gz       100%[===================>] 755.23M  21.8MB/s    in 35s     \n",
            "\n",
            "2020-08-01 03:05:13 (21.4 MB/s) - ‘images.tar.gz’ saved [791918971/791918971]\n",
            "\n"
          ],
          "name": "stdout"
        }
      ]
    },
    {
      "cell_type": "code",
      "metadata": {
        "id": "whGu3HGQhXl6",
        "colab_type": "code",
        "colab": {
          "base_uri": "https://localhost:8080/",
          "height": 68
        },
        "outputId": "2a6cb70f-8ed7-4d48-b624-686bbb100638"
      },
      "source": [
        "%ls -l"
      ],
      "execution_count": 41,
      "outputs": [
        {
          "output_type": "stream",
          "text": [
            "total 773896\n",
            "-rw-r--r-- 1 root root    543635 Aug  1 03:01 donkey2.png\n",
            "-rw-r--r-- 1 root root 791918971 Jun 18  2012 images.tar.gz\n"
          ],
          "name": "stdout"
        }
      ]
    },
    {
      "cell_type": "code",
      "metadata": {
        "id": "2iA5x7dihZax",
        "colab_type": "code",
        "colab": {
          "base_uri": "https://localhost:8080/",
          "height": 187
        },
        "outputId": "9f75240b-c591-488a-c672-5be701275cec"
      },
      "source": [
        "# 묶인파일을 압축해제하기 -x : 압축풀기\n",
        "# 너무 많아서 10줄만 표시\n",
        "!tar -xvf images.tar.gz | head -n 10"
      ],
      "execution_count": 42,
      "outputs": [
        {
          "output_type": "stream",
          "text": [
            "images/\n",
            "images/boxer_16.jpg\n",
            "images/chihuahua_165.jpg\n",
            "images/pug_183.jpg\n",
            "images/english_setter_1.jpg\n",
            "images/chihuahua_170.jpg\n",
            "images/english_cocker_spaniel_17.jpg\n",
            "images/samoyed_39.jpg\n",
            "images/Egyptian_Mau_62.jpg\n",
            "images/samoyed_36.jpg\n"
          ],
          "name": "stdout"
        }
      ]
    },
    {
      "cell_type": "code",
      "metadata": {
        "id": "M8vKVZjGhj-d",
        "colab_type": "code",
        "colab": {
          "base_uri": "https://localhost:8080/",
          "height": 85
        },
        "outputId": "7d204c32-45fa-4c32-964e-214ae6f7830f"
      },
      "source": [
        "%ls -l"
      ],
      "execution_count": 43,
      "outputs": [
        {
          "output_type": "stream",
          "text": [
            "total 773900\n",
            "-rw-r--r-- 1 root root    543635 Aug  1 03:01 donkey2.png\n",
            "drwx------ 2 root root      4096 Aug  1 03:05 \u001b[0m\u001b[01;34mimages\u001b[0m/\n",
            "-rw-r--r-- 1 root root 791918971 Jun 18  2012 images.tar.gz\n"
          ],
          "name": "stdout"
        }
      ]
    },
    {
      "cell_type": "code",
      "metadata": {
        "id": "CiIFtSEvhpaA",
        "colab_type": "code",
        "colab": {
          "base_uri": "https://localhost:8080/",
          "height": 204
        },
        "outputId": "e962f8c5-9da0-493f-9249-9bbf34ac256f"
      },
      "source": [
        "%cd images\n",
        "\n",
        "# 이미지의 갯수가 너무 많을 경우, 목록의 앞 일부만 표시 (head)\n",
        "%ls -l  | head"
      ],
      "execution_count": 44,
      "outputs": [
        {
          "output_type": "stream",
          "text": [
            "/content/downloads/images\n",
            "total 728\n",
            "-rwxr-xr-x 1 1001 1001  90829 Jun 18  2012 \u001b[0m\u001b[01;32mboxer_16.jpg\u001b[0m*\n",
            "-rwxr-xr-x 1 1001 1001  11186 Jun 18  2012 \u001b[01;32mchihuahua_165.jpg\u001b[0m*\n",
            "-rwxr-xr-x 1 1001 1001   7976 Jun 18  2012 \u001b[01;32mchihuahua_170.jpg\u001b[0m*\n",
            "-rwxr-xr-x 1 1001 1001 153697 Jun 18  2012 \u001b[01;32mEgyptian_Mau_62.jpg\u001b[0m*\n",
            "-rwxr-xr-x 1 1001 1001 171997 Jun 18  2012 \u001b[01;32menglish_cocker_spaniel_17.jpg\u001b[0m*\n",
            "-rwxr-xr-x 1 1001 1001  47306 Jun 18  2012 \u001b[01;32menglish_setter_1.jpg\u001b[0m*\n",
            "-rwxr-xr-x 1 1001 1001  15855 Jun 18  2012 \u001b[01;32mpug_183.jpg\u001b[0m*\n",
            "-rwxr-xr-x 1 1001 1001 105445 Jun 18  2012 \u001b[01;32msamoyed_36.jpg\u001b[0m*\n",
            "-rwxr-xr-x 1 1001 1001 128745 Jun 18  2012 \u001b[01;32msamoyed_39.jpg\u001b[0m*\n"
          ],
          "name": "stdout"
        }
      ]
    },
    {
      "cell_type": "code",
      "metadata": {
        "id": "IWY6jUjQhxGV",
        "colab_type": "code",
        "colab": {
          "base_uri": "https://localhost:8080/",
          "height": 34
        },
        "outputId": "57949b7b-05f8-4c92-f03b-6991b0a4b145"
      },
      "source": [
        "# 묶음 파일 삭제하기\n",
        "\n",
        "%cd ..\n",
        "%rm -f images.tar.gz"
      ],
      "execution_count": 45,
      "outputs": [
        {
          "output_type": "stream",
          "text": [
            "/content/downloads\n"
          ],
          "name": "stdout"
        }
      ]
    },
    {
      "cell_type": "code",
      "metadata": {
        "id": "sQCKpVUwivS7",
        "colab_type": "code",
        "colab": {
          "base_uri": "https://localhost:8080/",
          "height": 68
        },
        "outputId": "bd6953d1-ced9-4355-8733-1127fb51d4c2"
      },
      "source": [
        "#묶음파일(tar.gz) 삭제 여부 확인\n",
        "%ls -l"
      ],
      "execution_count": 46,
      "outputs": [
        {
          "output_type": "stream",
          "text": [
            "total 536\n",
            "-rw-r--r-- 1 root root 543635 Aug  1 03:01 donkey2.png\n",
            "drwx------ 2 root root   4096 Aug  1 03:05 \u001b[0m\u001b[01;34mimages\u001b[0m/\n"
          ],
          "name": "stdout"
        }
      ]
    },
    {
      "cell_type": "markdown",
      "metadata": {
        "id": "N0gxh1zKixDg",
        "colab_type": "text"
      },
      "source": [
        "## [15] 파이썬 패키지 설치하기/삭제하기 (pip)\n",
        "\n",
        " 파이썬 코딩을 위해서 필요한 패키지 프로그램이 컴퓨터에 설치되어 있지 않는 경우, pip명령어를 사용해서 설치합니다."
      ]
    },
    {
      "cell_type": "markdown",
      "metadata": {
        "id": "DyyeYSBjlVag",
        "colab_type": "text"
      },
      "source": [
        "#### 1> 설치 패키지 설치여부 확인하기"
      ]
    },
    {
      "cell_type": "code",
      "metadata": {
        "id": "iu4bIDiQi7-G",
        "colab_type": "code",
        "colab": {}
      },
      "source": [
        "# 예시로, QRCode를 인식하는 패키지를 설치해봅니다.\n",
        "# 현재 컴퓨터에는 설치되어 있지 않아서 정보를 알 수 없습니다.\n",
        "\n",
        "!pip list | grep pyQRCode "
      ],
      "execution_count": 47,
      "outputs": []
    },
    {
      "cell_type": "markdown",
      "metadata": {
        "id": "D8UF_Itclc7J",
        "colab_type": "text"
      },
      "source": [
        "#### 2> 필요한 패키지를 설치합니다(install pyqrcode 패키지)"
      ]
    },
    {
      "cell_type": "code",
      "metadata": {
        "id": "34l4dsfIjS28",
        "colab_type": "code",
        "colab": {
          "base_uri": "https://localhost:8080/",
          "height": 190
        },
        "outputId": "542b3834-a861-463c-945a-4d3bd0f81161"
      },
      "source": [
        "# pyqrcode가 미설치를 확인했다면, 아래의 명령어로 설치합니다.\n",
        "\n",
        "!pip install pyqrcode"
      ],
      "execution_count": 48,
      "outputs": [
        {
          "output_type": "stream",
          "text": [
            "Collecting pyqrcode\n",
            "  Downloading https://files.pythonhosted.org/packages/37/61/f07226075c347897937d4086ef8e55f0a62ae535e28069884ac68d979316/PyQRCode-1.2.1.tar.gz\n",
            "Building wheels for collected packages: pyqrcode\n",
            "  Building wheel for pyqrcode (setup.py) ... \u001b[?25l\u001b[?25hdone\n",
            "  Created wheel for pyqrcode: filename=PyQRCode-1.2.1-cp36-none-any.whl size=36246 sha256=bcd107b5818b815de45b00667c7541de864da6dd87e8e9847a0bcac98316a4f4\n",
            "  Stored in directory: /root/.cache/pip/wheels/54/61/2f/a4f51b09473db5737db0f654ed10eb9a4ee01f83a7412de349\n",
            "Successfully built pyqrcode\n",
            "Installing collected packages: pyqrcode\n",
            "Successfully installed pyqrcode-1.2.1\n"
          ],
          "name": "stdout"
        }
      ]
    },
    {
      "cell_type": "markdown",
      "metadata": {
        "id": "5sEuZyOAlnix",
        "colab_type": "text"
      },
      "source": [
        "#### 3> 패키지의 설치 여부를 확인합니다"
      ]
    },
    {
      "cell_type": "code",
      "metadata": {
        "id": "134NrrjIjp5l",
        "colab_type": "code",
        "colab": {
          "base_uri": "https://localhost:8080/",
          "height": 34
        },
        "outputId": "70934461-6637-4d24-af27-9ddc713a7ca5"
      },
      "source": [
        "#\n",
        "# grep에서 -i (ignore) 옵션은 뒤에오는 검색어의 대소문자 구분하지 않음\n",
        "# grep에서는 패키지명이 정확하지 않으면, 검색이 않됨\n",
        "#\n",
        "\n",
        "!pip list | grep -i pyqrcode"
      ],
      "execution_count": 49,
      "outputs": [
        {
          "output_type": "stream",
          "text": [
            "PyQRCode                 1.2.1          \n"
          ],
          "name": "stdout"
        }
      ]
    },
    {
      "cell_type": "markdown",
      "metadata": {
        "id": "xzau5jVpltAb",
        "colab_type": "text"
      },
      "source": [
        "#### 4>  불필요한 패키지를 삭제합니다(uninstall)"
      ]
    },
    {
      "cell_type": "code",
      "metadata": {
        "id": "cFZzxdOElGxQ",
        "colab_type": "code",
        "colab": {
          "base_uri": "https://localhost:8080/",
          "height": 119
        },
        "outputId": "e5d5c2e1-8a79-490c-faf4-7e4adee08921"
      },
      "source": [
        "# 패키지 삭제하기 \n",
        "# 삭제시 Yes/No를 묻는 창이 표시되면, y를 입력\n",
        "# yes를 Non-interactive하게 설명하고 싶다면, 아래와 같이 수행 (pip의 --yes 옵션사용)\n",
        "# ! pip uninstall --yes pyqrcode\n",
        "\n",
        "!pip uninstall pyqrcode"
      ],
      "execution_count": 50,
      "outputs": [
        {
          "output_type": "stream",
          "text": [
            "Uninstalling PyQRCode-1.2.1:\n",
            "  Would remove:\n",
            "    /usr/local/lib/python3.6/dist-packages/PyQRCode-1.2.1.dist-info/*\n",
            "    /usr/local/lib/python3.6/dist-packages/pyqrcode/*\n",
            "Proceed (y/n)? y\n",
            "  Successfully uninstalled PyQRCode-1.2.1\n"
          ],
          "name": "stdout"
        }
      ]
    }
  ]
}