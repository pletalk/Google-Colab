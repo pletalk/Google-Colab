{
  "nbformat": 4,
  "nbformat_minor": 0,
  "metadata": {
    "colab": {
      "name": "04-GoogleColab-Utility.ipynb",
      "provenance": [],
      "collapsed_sections": [],
      "toc_visible": true,
      "authorship_tag": "ABX9TyOIVGUzEJBXh0LpYpv92Sh1",
      "include_colab_link": true
    },
    "kernelspec": {
      "name": "python3",
      "display_name": "Python 3"
    },
    "accelerator": "GPU"
  },
  "cells": [
    {
      "cell_type": "markdown",
      "metadata": {
        "id": "view-in-github",
        "colab_type": "text"
      },
      "source": [
        "<a href=\"https://colab.research.google.com/github/pletalk/EMPV-RPI-AutoDriving/blob/master/01-Google%20Colab/04-GoogleColab-Utility.ipynb\" target=\"_parent\"><img src=\"https://colab.research.google.com/assets/colab-badge.svg\" alt=\"Open In Colab\"/></a>"
      ]
    },
    {
      "cell_type": "markdown",
      "metadata": {
        "id": "stfCRasjp8UX",
        "colab_type": "text"
      },
      "source": [
        "# Google Colab에서 유용한 사용환경 설정하기\n",
        "@2020-08-01/ignitespark\n",
        "\n",
        "[note]\n",
        "\n",
        "* Google Colab에서 사용 시, 메뉴에서 런타임 > 런타임 유형변경 을 선택하고, GPU/TPU를 설정해야합니다."
      ]
    },
    {
      "cell_type": "markdown",
      "metadata": {
        "id": "7rimtUgBqXsX",
        "colab_type": "text"
      },
      "source": [
        "## [1] 다중라인 출력하기\n",
        "\n",
        "기본적으로 Google Colab에서는 하나의 셀에 여려개의 값을 출력하는 경우, 맨 마지막 출력값만 표시됩니다. \n",
        "\n",
        "하나의 셀에 여러 출력값을 표시하기 위해서 아래의 코드를 추가 사용합니다.\n",
        "\n",
        "```\n",
        "from IPython.core.interactiveshell import InteractiveShell\n",
        "InteractiveShell.ast_node_interactivity = \"all\"\n",
        "```"
      ]
    },
    {
      "cell_type": "code",
      "metadata": {
        "id": "wWUfegWDqn3t",
        "colab_type": "code",
        "colab": {}
      },
      "source": [
        "from IPython.core.interactiveshell import InteractiveShell\n",
        "\n",
        "InteractiveShell.ast_node_interactivity = \"all\""
      ],
      "execution_count": 1,
      "outputs": []
    },
    {
      "cell_type": "markdown",
      "metadata": {
        "id": "KW8qLRWlrHak",
        "colab_type": "text"
      },
      "source": [
        "### Usage"
      ]
    },
    {
      "cell_type": "code",
      "metadata": {
        "id": "FI9oVtPirM4Z",
        "colab_type": "code",
        "colab": {
          "base_uri": "https://localhost:8080/",
          "height": 68
        },
        "outputId": "164f8ee4-29e8-46e5-8a08-901b3783b948"
      },
      "source": [
        "print(\"덧셈의 출력값은 아래와 같습니다\")\n",
        "print(\"1+2=\",1+2)\n",
        "print(\"3+5=\",3+5)"
      ],
      "execution_count": 2,
      "outputs": [
        {
          "output_type": "stream",
          "text": [
            "덧셈의 출력값은 아래와 같습니다\n",
            "1+2= 3\n",
            "3+5= 8\n"
          ],
          "name": "stdout"
        }
      ]
    },
    {
      "cell_type": "markdown",
      "metadata": {
        "id": "D8pqwnO9vIXX",
        "colab_type": "text"
      },
      "source": [
        "## [2] 리스트나 딕셔너리 보기 쉽게 출력하기(pprint)\n",
        "\n",
        "pprint 모듈을 사용해서 보기 쉽게 print를 수행합니다.\n",
        "\n",
        "리스트의 내용이 매우 긴 경우, 행으로 모든 내용들을 보기 어렵기 때문에, 열 방향으로 내용을 출력해서 보는 것이 편리합니다.\n",
        "\n",
        "```\n",
        "import pprint\n",
        "\n",
        "pp = pprint.PrettyPrinter(depth=2)\n",
        "font_list = ['/usr/share/fonts/truetype/liberation/LiberationSans-Regular.ttf',\n",
        "'/usr/share/fonts/truetype/liberation/LiberationSansNarrow-Italic.ttf',\n",
        "'/usr/share/fonts/truetype/liberation/LiberationSans-Italic.ttf', '/usr/share/fonts/truetype/liberation/LiberationSerif-BoldItalic.ttf', ...]\n",
        "pp.pprint(font_list)\n",
        "```"
      ]
    },
    {
      "cell_type": "code",
      "metadata": {
        "id": "RSvm3prPoKkc",
        "colab_type": "code",
        "colab": {
          "base_uri": "https://localhost:8080/",
          "height": 71
        },
        "outputId": "064ce89e-af84-4ced-8a10-285c5fe4f325"
      },
      "source": [
        "font_list = ['/usr/share/fonts/truetype/liberation/LiberationSans-Regular.ttf', '/usr/share/fonts/truetype/liberation/LiberationSansNarrow-Italic.ttf', '/usr/share/fonts/truetype/liberation/LiberationSans-Italic.ttf', '/usr/share/fonts/truetype/liberation/LiberationSerif-BoldItalic.ttf', '/usr/share/fonts/truetype/liberation/LiberationSans-Bold.ttf', '/usr/share/fonts/truetype/liberation/LiberationMono-Bold.ttf', '/usr/share/fonts/truetype/liberation/LiberationSerif-Regular.ttf', '/usr/share/fonts/truetype/liberation/LiberationSansNarrow-BoldItalic.ttf', '/usr/share/fonts/truetype/liberation/LiberationMono-BoldItalic.ttf', '/usr/share/fonts/truetype/humor-sans/Humor-Sans.ttf', '/usr/share/fonts/truetype/liberation/LiberationSerif-Bold.ttf', '/usr/share/fonts/truetype/liberation/LiberationSerif-Italic.ttf', '/usr/share/fonts/truetype/liberation/LiberationMono-Regular.ttf', '/usr/share/fonts/truetype/liberation/LiberationMono-Italic.ttf', '/usr/share/fonts/truetype/liberation/LiberationSansNarrow-Bold.ttf', '/usr/share/fonts/truetype/liberation/LiberationSans-BoldItalic.ttf', '/usr/share/fonts/truetype/liberation/LiberationSansNarrow-Regular.ttf']\n",
        "print(font_list)\n",
        "print(\"폰트 리스트의 항목 개수=\",len(font_list))"
      ],
      "execution_count": 3,
      "outputs": [
        {
          "output_type": "stream",
          "text": [
            "['/usr/share/fonts/truetype/liberation/LiberationSans-Regular.ttf', '/usr/share/fonts/truetype/liberation/LiberationSansNarrow-Italic.ttf', '/usr/share/fonts/truetype/liberation/LiberationSans-Italic.ttf', '/usr/share/fonts/truetype/liberation/LiberationSerif-BoldItalic.ttf', '/usr/share/fonts/truetype/liberation/LiberationSans-Bold.ttf', '/usr/share/fonts/truetype/liberation/LiberationMono-Bold.ttf', '/usr/share/fonts/truetype/liberation/LiberationSerif-Regular.ttf', '/usr/share/fonts/truetype/liberation/LiberationSansNarrow-BoldItalic.ttf', '/usr/share/fonts/truetype/liberation/LiberationMono-BoldItalic.ttf', '/usr/share/fonts/truetype/humor-sans/Humor-Sans.ttf', '/usr/share/fonts/truetype/liberation/LiberationSerif-Bold.ttf', '/usr/share/fonts/truetype/liberation/LiberationSerif-Italic.ttf', '/usr/share/fonts/truetype/liberation/LiberationMono-Regular.ttf', '/usr/share/fonts/truetype/liberation/LiberationMono-Italic.ttf', '/usr/share/fonts/truetype/liberation/LiberationSansNarrow-Bold.ttf', '/usr/share/fonts/truetype/liberation/LiberationSans-BoldItalic.ttf', '/usr/share/fonts/truetype/liberation/LiberationSansNarrow-Regular.ttf']\n",
            "폰트 리스트의 항목 개수= 17\n"
          ],
          "name": "stdout"
        }
      ]
    },
    {
      "cell_type": "code",
      "metadata": {
        "id": "8-Zaq5DCvOMj",
        "colab_type": "code",
        "colab": {
          "base_uri": "https://localhost:8080/",
          "height": 306
        },
        "outputId": "373dabd2-93bc-41f4-f9ab-4d15e4ee83a2"
      },
      "source": [
        "import pprint\n",
        "\n",
        "pp = pprint.PrettyPrinter(depth=2)\n",
        "pp.pprint(font_list)"
      ],
      "execution_count": 5,
      "outputs": [
        {
          "output_type": "stream",
          "text": [
            "['/usr/share/fonts/truetype/liberation/LiberationSans-Regular.ttf',\n",
            " '/usr/share/fonts/truetype/liberation/LiberationSansNarrow-Italic.ttf',\n",
            " '/usr/share/fonts/truetype/liberation/LiberationSans-Italic.ttf',\n",
            " '/usr/share/fonts/truetype/liberation/LiberationSerif-BoldItalic.ttf',\n",
            " '/usr/share/fonts/truetype/liberation/LiberationSans-Bold.ttf',\n",
            " '/usr/share/fonts/truetype/liberation/LiberationMono-Bold.ttf',\n",
            " '/usr/share/fonts/truetype/liberation/LiberationSerif-Regular.ttf',\n",
            " '/usr/share/fonts/truetype/liberation/LiberationSansNarrow-BoldItalic.ttf',\n",
            " '/usr/share/fonts/truetype/liberation/LiberationMono-BoldItalic.ttf',\n",
            " '/usr/share/fonts/truetype/humor-sans/Humor-Sans.ttf',\n",
            " '/usr/share/fonts/truetype/liberation/LiberationSerif-Bold.ttf',\n",
            " '/usr/share/fonts/truetype/liberation/LiberationSerif-Italic.ttf',\n",
            " '/usr/share/fonts/truetype/liberation/LiberationMono-Regular.ttf',\n",
            " '/usr/share/fonts/truetype/liberation/LiberationMono-Italic.ttf',\n",
            " '/usr/share/fonts/truetype/liberation/LiberationSansNarrow-Bold.ttf',\n",
            " '/usr/share/fonts/truetype/liberation/LiberationSans-BoldItalic.ttf',\n",
            " '/usr/share/fonts/truetype/liberation/LiberationSansNarrow-Regular.ttf']\n"
          ],
          "name": "stdout"
        }
      ]
    },
    {
      "cell_type": "markdown",
      "metadata": {
        "id": "QKtYEBeWs4x3",
        "colab_type": "text"
      },
      "source": [
        "## [3] 경고(Warning) 메시지 끄기\n",
        "\n",
        "경고 메시지를 보지 않을 경우, 아래의 설정을 수행합니다. 실제 수행 예시는 아래의 [4] 에서 확인해주세요.\n",
        "\n",
        "```\n",
        "import warnings\n",
        "\n",
        "warnings.filterwarnings(action='ignore') \n",
        "```"
      ]
    },
    {
      "cell_type": "markdown",
      "metadata": {
        "id": "cTuU4dvHrSQL",
        "colab_type": "text"
      },
      "source": [
        "## [4] 그래프 출력을 위한 한글폰트 환경 설정하기\n",
        "\n",
        "그래프에서 한글 출력을 위해서 한글폰트를 확인하고, 설정하는 별도의 과정이 필요합니다. \n",
        "\n",
        "설정이 없이 그래프에 한글을 출력하는 경우 제대로 표시되지 않을 수 있습니다.\n"
      ]
    },
    {
      "cell_type": "markdown",
      "metadata": {
        "id": "FKL6VCmbr3Be",
        "colab_type": "text"
      },
      "source": [
        "### 1) 한글폰트 설정 없이 그래프에 한글 출력하기\n",
        "\n",
        "한글폰트가 제대로 표시되지 않은 이미지를 확인할 수 있습니다."
      ]
    },
    {
      "cell_type": "code",
      "metadata": {
        "id": "XJJy_95Yr-K6",
        "colab_type": "code",
        "colab": {
          "base_uri": "https://localhost:8080/",
          "height": 367
        },
        "outputId": "c41fff04-41e4-4ebc-b55f-1d37b1c656bf"
      },
      "source": [
        "import matplotlib.pyplot as plt\n",
        "\n",
        "x  = [1,2,3,4,5]\n",
        "y = [2,4,6,8,10]\n",
        "\n",
        "plt.plot(x,y)\n",
        "plt.xlabel('x축')\n",
        "plt.ylabel('y축')\n",
        "plt.show()"
      ],
      "execution_count": 6,
      "outputs": [
        {
          "output_type": "execute_result",
          "data": {
            "text/plain": [
              "[<matplotlib.lines.Line2D at 0x7f80066616a0>]"
            ]
          },
          "metadata": {
            "tags": []
          },
          "execution_count": 6
        },
        {
          "output_type": "execute_result",
          "data": {
            "text/plain": [
              "Text(0.5, 0, 'x축')"
            ]
          },
          "metadata": {
            "tags": []
          },
          "execution_count": 6
        },
        {
          "output_type": "execute_result",
          "data": {
            "text/plain": [
              "Text(0, 0.5, 'y축')"
            ]
          },
          "metadata": {
            "tags": []
          },
          "execution_count": 6
        },
        {
          "output_type": "stream",
          "text": [
            "/usr/local/lib/python3.6/dist-packages/matplotlib/backends/backend_agg.py:214: RuntimeWarning: Glyph 52629 missing from current font.\n",
            "  font.set_text(s, 0.0, flags=flags)\n",
            "/usr/local/lib/python3.6/dist-packages/matplotlib/backends/backend_agg.py:183: RuntimeWarning: Glyph 52629 missing from current font.\n",
            "  font.set_text(s, 0, flags=flags)\n"
          ],
          "name": "stderr"
        },
        {
          "output_type": "display_data",
          "data": {
            "image/png": "[encoded data removed]",
            "text/plain": [
              "<Figure size 432x288 with 1 Axes>"
            ]
          },
          "metadata": {
            "tags": [],
            "needs_background": "light"
          }
        }
      ]
    },
    {
      "cell_type": "markdown",
      "metadata": {
        "id": "7e25K354r-RH",
        "colab_type": "text"
      },
      "source": [
        "### 2) 경고 메시지 숨기기\n",
        "\n",
        "아래의 코드를 수행하고, 1)의 내용을 다시 수행하면 Warning에 대한 부분들이 표시되지 않는 것을 확인할 수 있습니다.\n",
        "\n",
        "```아래의 코드를 수행하면, 위의 RuntimeWarning: 부분의 메시지가 보이 않은 것을 확인할 수 있습니다.```\n",
        "\n"
      ]
    },
    {
      "cell_type": "code",
      "metadata": {
        "id": "R5CVmuLvtUOa",
        "colab_type": "code",
        "colab": {}
      },
      "source": [
        "import warnings\n",
        "\n",
        "warnings.filterwarnings(action='ignore') "
      ],
      "execution_count": 9,
      "outputs": []
    },
    {
      "cell_type": "code",
      "metadata": {
        "id": "5xsvBbGOtYTo",
        "colab_type": "code",
        "colab": {
          "base_uri": "https://localhost:8080/",
          "height": 296
        },
        "outputId": "516665b0-b8b1-42af-c15d-0cd3dcdb2619"
      },
      "source": [
        "import matplotlib.pyplot as plt\n",
        "\n",
        "x  = [1,2,3,4,5]\n",
        "y = [2,4,6,8,10]\n",
        "\n",
        "plt.plot(x,y)\n",
        "plt.xlabel('x축')\n",
        "plt.ylabel('y축')\n",
        "plt.show()"
      ],
      "execution_count": 10,
      "outputs": [
        {
          "output_type": "execute_result",
          "data": {
            "text/plain": [
              "[<matplotlib.lines.Line2D at 0x7f80060cc9b0>]"
            ]
          },
          "metadata": {
            "tags": []
          },
          "execution_count": 10
        },
        {
          "output_type": "execute_result",
          "data": {
            "text/plain": [
              "Text(0.5, 0, 'x축')"
            ]
          },
          "metadata": {
            "tags": []
          },
          "execution_count": 10
        },
        {
          "output_type": "execute_result",
          "data": {
            "text/plain": [
              "Text(0, 0.5, 'y축')"
            ]
          },
          "metadata": {
            "tags": []
          },
          "execution_count": 10
        },
        {
          "output_type": "display_data",
          "data": {
            "image/png": "[encoded data removed]",
            "text/plain": [
              "<Figure size 432x288 with 1 Axes>"
            ]
          },
          "metadata": {
            "tags": [],
            "needs_background": "light"
          }
        }
      ]
    },
    {
      "cell_type": "markdown",
      "metadata": {
        "id": "INmLytN1toF_",
        "colab_type": "text"
      },
      "source": [
        "### 3) 그래프에 한글 표시를 위한 환경 설정하기\n",
        "\n",
        "아래의 코드를 추가하면, Google Colab환경에서 그래프 표시 시 한글을 제대로 출력할 수 있습니다.\n",
        "\n",
        "```\n",
        "import matplotlib.font_manager as fm\n",
        "import matplotlib.pyplot as plt\n",
        "import matplotlib\n",
        "\n",
        "# 나눔폰트 다운로드해서 설치하기\n",
        "!apt -qq -y install fonts-nanum\n",
        "\n",
        "# 한글폰트 설정하기\n",
        "fpath = '/usr/share/fonts/truetype/nanum/NanumGothic.ttf'\n",
        "font = fm.FontProperties(fname=fpath, size=10)\n",
        "plt.rc('font', family=font.get_name()) \n",
        "\n",
        "# 마이너스문자 오류 방지 설정\n",
        "matplotlib.rcParams['axes.unicode_minus'] = False\n",
        "\n",
        "# 새로운 폰트를 matplotlib에 추가해서 구성하기\n",
        "fm._rebuild()\n",
        "```\n"
      ]
    },
    {
      "cell_type": "markdown",
      "metadata": {
        "id": "uyinsKLauD4i",
        "colab_type": "text"
      },
      "source": [
        "#### <1> Google Colab에 설치된 폰트 확인하기\n",
        "\n",
        "나눔폰트등이 설치되었는지 확인해보고, 없다면 폰트 설치가 필요합니다."
      ]
    },
    {
      "cell_type": "code",
      "metadata": {
        "id": "Orum6EG1uEBg",
        "colab_type": "code",
        "colab": {}
      },
      "source": [
        "import matplotlib.font_manager as fm\n",
        "import pprint"
      ],
      "execution_count": 1,
      "outputs": []
    },
    {
      "cell_type": "code",
      "metadata": {
        "id": "ReTXtZVnuENw",
        "colab_type": "code",
        "colab": {
          "base_uri": "https://localhost:8080/",
          "height": 493
        },
        "outputId": "53a7ea9e-df58-4746-b660-2d8ee74f6af4"
      },
      "source": [
        "sysfonts=fm.findSystemFonts()\n",
        "print(f\"시스템에 설치된 폰트의 갯수: {len(sysfonts)}\")\n",
        "\n",
        "pp = pprint.PrettyPrinter(depth=2)\n",
        "pp.pprint(sysfonts)"
      ],
      "execution_count": 2,
      "outputs": [
        {
          "output_type": "stream",
          "text": [
            "시스템에 설치된 폰트의 갯수: 27\n",
            "['/usr/share/fonts/truetype/liberation/LiberationSansNarrow-Regular.ttf',\n",
            " '/usr/share/fonts/truetype/nanum/NanumSquareR.ttf',\n",
            " '/usr/share/fonts/truetype/nanum/NanumBarunGothicBold.ttf',\n",
            " '/usr/share/fonts/truetype/nanum/NanumMyeongjo.ttf',\n",
            " '/usr/share/fonts/truetype/liberation/LiberationSansNarrow-Italic.ttf',\n",
            " '/usr/share/fonts/truetype/nanum/NanumSquareRoundR.ttf',\n",
            " '/usr/share/fonts/truetype/liberation/LiberationSerif-Bold.ttf',\n",
            " '/usr/share/fonts/truetype/nanum/NanumSquareB.ttf',\n",
            " '/usr/share/fonts/truetype/liberation/LiberationMono-Italic.ttf',\n",
            " '/usr/share/fonts/truetype/liberation/LiberationSerif-Regular.ttf',\n",
            " '/usr/share/fonts/truetype/nanum/NanumBarunGothic.ttf',\n",
            " '/usr/share/fonts/truetype/liberation/LiberationSerif-Italic.ttf',\n",
            " '/usr/share/fonts/truetype/liberation/LiberationSansNarrow-BoldItalic.ttf',\n",
            " '/usr/share/fonts/truetype/liberation/LiberationMono-Bold.ttf',\n",
            " '/usr/share/fonts/truetype/liberation/LiberationSansNarrow-Bold.ttf',\n",
            " '/usr/share/fonts/truetype/liberation/LiberationSans-Italic.ttf',\n",
            " '/usr/share/fonts/truetype/liberation/LiberationSans-Bold.ttf',\n",
            " '/usr/share/fonts/truetype/liberation/LiberationMono-Regular.ttf',\n",
            " '/usr/share/fonts/truetype/nanum/NanumGothicBold.ttf',\n",
            " '/usr/share/fonts/truetype/liberation/LiberationMono-BoldItalic.ttf',\n",
            " '/usr/share/fonts/truetype/humor-sans/Humor-Sans.ttf',\n",
            " '/usr/share/fonts/truetype/liberation/LiberationSerif-BoldItalic.ttf',\n",
            " '/usr/share/fonts/truetype/nanum/NanumGothic.ttf',\n",
            " '/usr/share/fonts/truetype/nanum/NanumMyeongjoBold.ttf',\n",
            " '/usr/share/fonts/truetype/liberation/LiberationSans-Regular.ttf',\n",
            " '/usr/share/fonts/truetype/nanum/NanumSquareRoundB.ttf',\n",
            " '/usr/share/fonts/truetype/liberation/LiberationSans-BoldItalic.ttf']\n"
          ],
          "name": "stdout"
        }
      ]
    },
    {
      "cell_type": "markdown",
      "metadata": {
        "id": "PNnOcoM-w002",
        "colab_type": "text"
      },
      "source": [
        "#### <2> 나눔폰트 설치하기\n",
        "\n",
        "리눅스 shell 명령어인 apt, apt-get을 사용해서 nanum 폰트를 다운로드 받습니다. \n",
        "*  -qq는 오류나 경고등을 표시하지 않는다는 의미입니다. \n",
        "* -y는 설치 시에 진행여부에 대한 yes/no에서 yes를 설정한다는 의미입니다."
      ]
    },
    {
      "cell_type": "code",
      "metadata": {
        "id": "7T75eb8iuCXZ",
        "colab_type": "code",
        "colab": {
          "base_uri": "https://localhost:8080/",
          "height": 102
        },
        "outputId": "19d56535-14e6-4efb-f767-350a25fed2c0"
      },
      "source": [
        "# 폰트를 다운로드 받아서 설치하기\n",
        "!apt -qq -y install fonts-nanum"
      ],
      "execution_count": 3,
      "outputs": [
        {
          "output_type": "stream",
          "text": [
            "fonts-nanum is already the newest version (20170925-1).\n",
            "The following package was automatically installed and is no longer required:\n",
            "  libnvidia-common-440\n",
            "Use 'apt autoremove' to remove it.\n",
            "0 upgraded, 0 newly installed, 0 to remove and 35 not upgraded.\n"
          ],
          "name": "stdout"
        }
      ]
    },
    {
      "cell_type": "code",
      "metadata": {
        "id": "6iizlq9vxNnJ",
        "colab_type": "code",
        "colab": {
          "base_uri": "https://localhost:8080/",
          "height": 493
        },
        "outputId": "ffed47e9-684b-4eee-896b-9bc4c7cf302a"
      },
      "source": [
        "#나눔폰트 설치 여부 확인하기\n",
        "import matplotlib.font_manager as fm\n",
        "\n",
        "sysfonts=fm.findSystemFonts()\n",
        "print(f\"시스템에 설치된 폰트의 갯수: {len(sysfonts)}\")\n",
        "\n",
        "pp = pprint.PrettyPrinter(depth=2)\n",
        "pp.pprint(sysfonts)"
      ],
      "execution_count": 4,
      "outputs": [
        {
          "output_type": "stream",
          "text": [
            "시스템에 설치된 폰트의 갯수: 27\n",
            "['/usr/share/fonts/truetype/liberation/LiberationSansNarrow-Regular.ttf',\n",
            " '/usr/share/fonts/truetype/nanum/NanumSquareR.ttf',\n",
            " '/usr/share/fonts/truetype/nanum/NanumBarunGothicBold.ttf',\n",
            " '/usr/share/fonts/truetype/nanum/NanumMyeongjo.ttf',\n",
            " '/usr/share/fonts/truetype/liberation/LiberationSansNarrow-Italic.ttf',\n",
            " '/usr/share/fonts/truetype/nanum/NanumSquareRoundR.ttf',\n",
            " '/usr/share/fonts/truetype/liberation/LiberationSerif-Bold.ttf',\n",
            " '/usr/share/fonts/truetype/nanum/NanumSquareB.ttf',\n",
            " '/usr/share/fonts/truetype/liberation/LiberationMono-Italic.ttf',\n",
            " '/usr/share/fonts/truetype/liberation/LiberationSerif-Regular.ttf',\n",
            " '/usr/share/fonts/truetype/nanum/NanumBarunGothic.ttf',\n",
            " '/usr/share/fonts/truetype/liberation/LiberationSerif-Italic.ttf',\n",
            " '/usr/share/fonts/truetype/liberation/LiberationSansNarrow-BoldItalic.ttf',\n",
            " '/usr/share/fonts/truetype/liberation/LiberationMono-Bold.ttf',\n",
            " '/usr/share/fonts/truetype/liberation/LiberationSansNarrow-Bold.ttf',\n",
            " '/usr/share/fonts/truetype/liberation/LiberationSans-Italic.ttf',\n",
            " '/usr/share/fonts/truetype/liberation/LiberationSans-Bold.ttf',\n",
            " '/usr/share/fonts/truetype/liberation/LiberationMono-Regular.ttf',\n",
            " '/usr/share/fonts/truetype/nanum/NanumGothicBold.ttf',\n",
            " '/usr/share/fonts/truetype/liberation/LiberationMono-BoldItalic.ttf',\n",
            " '/usr/share/fonts/truetype/humor-sans/Humor-Sans.ttf',\n",
            " '/usr/share/fonts/truetype/liberation/LiberationSerif-BoldItalic.ttf',\n",
            " '/usr/share/fonts/truetype/nanum/NanumGothic.ttf',\n",
            " '/usr/share/fonts/truetype/nanum/NanumMyeongjoBold.ttf',\n",
            " '/usr/share/fonts/truetype/liberation/LiberationSans-Regular.ttf',\n",
            " '/usr/share/fonts/truetype/nanum/NanumSquareRoundB.ttf',\n",
            " '/usr/share/fonts/truetype/liberation/LiberationSans-BoldItalic.ttf']\n"
          ],
          "name": "stdout"
        }
      ]
    },
    {
      "cell_type": "code",
      "metadata": {
        "id": "pPsQJXdkxaoh",
        "colab_type": "code",
        "colab": {
          "base_uri": "https://localhost:8080/",
          "height": 187
        },
        "outputId": "e2c4d024-ad51-4244-9eb0-adef6c95cefd"
      },
      "source": [
        "# 나눔폰트만 필터링해서 표시하기\n",
        "nanum_fonts = [f for f in sysfonts if 'Nanum' in f]\n",
        "\n",
        "pp.pprint(nanum_fonts)"
      ],
      "execution_count": 5,
      "outputs": [
        {
          "output_type": "stream",
          "text": [
            "['/usr/share/fonts/truetype/nanum/NanumSquareR.ttf',\n",
            " '/usr/share/fonts/truetype/nanum/NanumBarunGothicBold.ttf',\n",
            " '/usr/share/fonts/truetype/nanum/NanumMyeongjo.ttf',\n",
            " '/usr/share/fonts/truetype/nanum/NanumSquareRoundR.ttf',\n",
            " '/usr/share/fonts/truetype/nanum/NanumSquareB.ttf',\n",
            " '/usr/share/fonts/truetype/nanum/NanumBarunGothic.ttf',\n",
            " '/usr/share/fonts/truetype/nanum/NanumGothicBold.ttf',\n",
            " '/usr/share/fonts/truetype/nanum/NanumGothic.ttf',\n",
            " '/usr/share/fonts/truetype/nanum/NanumMyeongjoBold.ttf',\n",
            " '/usr/share/fonts/truetype/nanum/NanumSquareRoundB.ttf']\n"
          ],
          "name": "stdout"
        }
      ]
    },
    {
      "cell_type": "markdown",
      "metadata": {
        "id": "ChItyV9vyBQn",
        "colab_type": "text"
      },
      "source": [
        "#### <3>  현재 폰트 설정 확인하기\n",
        "\n",
        "matplotlib.pyplot의 rcParams 변수설정을 통해 Font에 대한 정보를 얻을 수 있습니다."
      ]
    },
    {
      "cell_type": "code",
      "metadata": {
        "id": "LkFcPVt3yBaH",
        "colab_type": "code",
        "colab": {
          "base_uri": "https://localhost:8080/",
          "height": 51
        },
        "outputId": "6eb0c4d8-f14a-4875-a028-c000af95e94a"
      },
      "source": [
        "import matplotlib.pyplot as plt\n",
        "\n",
        "print('Font Family = ', plt.rcParams['font.family'])\n",
        "print('Font Size = ',plt.rcParams['font.size'])"
      ],
      "execution_count": 6,
      "outputs": [
        {
          "output_type": "stream",
          "text": [
            "Font Family =  ['sans-serif']\n",
            "Font Size =  10.0\n"
          ],
          "name": "stdout"
        }
      ]
    },
    {
      "cell_type": "code",
      "metadata": {
        "id": "CVungoI5Hb5n",
        "colab_type": "code",
        "colab": {
          "base_uri": "https://localhost:8080/",
          "height": 51
        },
        "outputId": "37425ad3-6be3-490b-c792-1d55ff63add8"
      },
      "source": [
        "# 현재 설정되어 있는 폰트 사이즈와 글꼴을 알아보자\n",
        "!python --version\n",
        "def current_font():\n",
        "  print(f\"설정 폰트 글꼴: {plt.rcParams['font.family']}, 설정 폰트 사이즈: {plt.rcParams['font.size']}\")  # 파이썬 3.6 이상 사용가능하다\n",
        "        \n",
        "current_font()"
      ],
      "execution_count": 7,
      "outputs": [
        {
          "output_type": "stream",
          "text": [
            "Python 3.6.9\n",
            "설정 폰트 글꼴: ['sans-serif'], 설정 폰트 사이즈: 10.0\n"
          ],
          "name": "stdout"
        }
      ]
    },
    {
      "cell_type": "markdown",
      "metadata": {
        "id": "a67s3VOVxt_i",
        "colab_type": "text"
      },
      "source": [
        "#### <4> 한글폰트 설정하기 (matplotlib)\n",
        "\n",
        "나눔고딕 볼드체로 폰트를 설정합니다. 모든 폰트설정이 완료되면, 폰트 매니저를 재 빌드(구성)합니다. 새로운 폰트가 반영되도록 합니다."
      ]
    },
    {
      "cell_type": "code",
      "metadata": {
        "id": "jo-K1yJuw4wo",
        "colab_type": "code",
        "colab": {
          "base_uri": "https://localhost:8080/",
          "height": 34
        },
        "outputId": "6fa3743c-22b9-404c-df97-ea6cfb019d1e"
      },
      "source": [
        "import matplotlib.font_manager as fm\n",
        "import matplotlib\n",
        "\n",
        "fpath = '/usr/share/fonts/truetype/nanum/NanumBarunGothic.ttf'\n",
        "font = fm.FontProperties(fname=fpath, size=12)\n",
        "plt.rc('font', family=font.get_name()) \n",
        "matplotlib.rcParams['axes.unicode_minus'] = False\n",
        "\n",
        "print(font.get_name())\n"
      ],
      "execution_count": 8,
      "outputs": [
        {
          "output_type": "stream",
          "text": [
            "NanumBarunGothic\n"
          ],
          "name": "stdout"
        }
      ]
    },
    {
      "cell_type": "code",
      "metadata": {
        "id": "5nF2IQZT0Yip",
        "colab_type": "code",
        "colab": {}
      },
      "source": [
        "# 폰트매니저를 디사한번 재구성합니다.\n",
        "\n",
        "import matplotlib\n",
        "\n",
        "matplotlib.font_manager._rebuild()"
      ],
      "execution_count": 9,
      "outputs": []
    },
    {
      "cell_type": "code",
      "metadata": {
        "id": "D7EYzl91GMLa",
        "colab_type": "code",
        "colab": {
          "base_uri": "https://localhost:8080/",
          "height": 34
        },
        "outputId": "64cd4caf-8bb8-42a3-c5b5-f65004bd74a1"
      },
      "source": [
        "print(font.get_name())"
      ],
      "execution_count": 10,
      "outputs": [
        {
          "output_type": "stream",
          "text": [
            "NanumBarunGothic\n"
          ],
          "name": "stdout"
        }
      ]
    },
    {
      "cell_type": "markdown",
      "metadata": {
        "id": "xjEuGgoE0Bhl",
        "colab_type": "text"
      },
      "source": [
        "#### <5> 한글이 제대로 출력되는지 그래프 다시 그리기"
      ]
    },
    {
      "cell_type": "code",
      "metadata": {
        "id": "xwmuP-oR0BsG",
        "colab_type": "code",
        "colab": {
          "base_uri": "https://localhost:8080/",
          "height": 636
        },
        "outputId": "c83bac10-6d86-49d9-a627-d913d5e315b6"
      },
      "source": [
        "import matplotlib.pyplot as plt\n",
        "\n",
        "\n",
        "path = '/usr/share/fonts/truetype/nanum/NanumGothic.ttf'\n",
        "font_name = fm.FontProperties(fname=path, size=50).get_name()\n",
        "print(font_name)\n",
        "plt.rc('font', family=font_name)\n",
        "matplotlib.rcParams['axes.unicode_minus'] = False\n",
        "\n",
        "x  = [1,2,3,4,5]\n",
        "y = [2,4,6,8,10]\n",
        "\n",
        "plt.figure(figsize=(12,10))\n",
        "plt.plot(x,y,label=\"1차원 그래프 예시\")\n",
        "plt.xlabel('x축')\n",
        "plt.ylabel('y축')\n",
        "plt.title(\"1차원 그래프\")\n",
        "plt.legend()\n",
        "plt.show()"
      ],
      "execution_count": 11,
      "outputs": [
        {
          "output_type": "stream",
          "text": [
            "NanumGothic\n"
          ],
          "name": "stdout"
        },
        {
          "output_type": "display_data",
          "data": {
            "image/png": "[encoded data removed]",
            "text/plain": [
              "<Figure size 864x720 with 1 Axes>"
            ]
          },
          "metadata": {
            "tags": [],
            "needs_background": "light"
          }
        }
      ]
    }
  ]
}