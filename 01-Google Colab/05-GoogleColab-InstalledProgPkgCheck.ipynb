{
  "nbformat": 4,
  "nbformat_minor": 0,
  "metadata": {
    "colab": {
      "name": "05-GoogleColab-InstalledProgPkgCheck.ipynb",
      "provenance": [],
      "collapsed_sections": [],
      "toc_visible": true,
      "authorship_tag": "ABX9TyO+hr7wiG+x7jbnYVIcW1bV",
      "include_colab_link": true
    },
    "kernelspec": {
      "name": "python3",
      "display_name": "Python 3"
    },
    "accelerator": "GPU"
  },
  "cells": [
    {
      "cell_type": "markdown",
      "metadata": {
        "id": "view-in-github",
        "colab_type": "text"
      },
      "source": [
        "<a href=\"https://colab.research.google.com/github/pletalk/EMPV-RPI-AutoDriving/blob/master/01-Google%20Colab/05-GoogleColab-InstalledProgPkgCheck.ipynb\" target=\"_parent\"><img src=\"https://colab.research.google.com/assets/colab-badge.svg\" alt=\"Open In Colab\"/></a>"
      ]
    },
    {
      "cell_type": "markdown",
      "metadata": {
        "id": "6rdKbzDF4f8G",
        "colab_type": "text"
      },
      "source": [
        "# Google Colab에서 설치된 프로그램/패키지 체크하기\n",
        "@2020-08-01/ignitespark\n",
        "\n",
        "[note]\n",
        "\n",
        "* Google Colab에서 사용 시, 메뉴에서 런타임 > 런타임 유형변경 을 선택하고, GPU/TPU를 설정해야합니다."
      ]
    },
    {
      "cell_type": "markdown",
      "metadata": {
        "id": "rH5Pw62y4sh3",
        "colab_type": "text"
      },
      "source": [
        "## [1] Tensorflow 버전 확인하기"
      ]
    },
    {
      "cell_type": "code",
      "metadata": {
        "id": "pfP9rxqA4wzC",
        "colab_type": "code",
        "colab": {
          "base_uri": "https://localhost:8080/",
          "height": 34
        },
        "outputId": "55b57a23-3e49-4a5d-c81b-229a36b261e4"
      },
      "source": [
        "  import tensorflow as tf\n",
        "  print(tf.__version__)"
      ],
      "execution_count": 1,
      "outputs": [
        {
          "output_type": "stream",
          "text": [
            "2.2.0\n"
          ],
          "name": "stdout"
        }
      ]
    },
    {
      "cell_type": "markdown",
      "metadata": {
        "id": "GnUwNxld5DpO",
        "colab_type": "text"
      },
      "source": [
        "## [2] Tensorflow 1.X대로 변경하기\n",
        "\n",
        "Google Colab에서는 기본적으로 2.X대를 지원하기때문에 1.X버전을 사용하는 경우, 버전을 낮추도록 설정합니다.\n",
        "\n",
        "아래의 매직코멘드를 사용하고 런타임을 재시작합니다. 만일, 다시 2.X대로 변경하고 싶다면, 아래의 명령어를 입력합니다.\n",
        "\n",
        "```\n",
        "%tensorflow_version 2.x\n",
        "```"
      ]
    },
    {
      "cell_type": "code",
      "metadata": {
        "id": "AGv3YDqT5Ptt",
        "colab_type": "code",
        "colab": {
          "base_uri": "https://localhost:8080/",
          "height": 34
        },
        "outputId": "448dc4ed-3f0f-4b6e-b178-962b59e998b6"
      },
      "source": [
        "%tensorflow_version 1.x"
      ],
      "execution_count": 2,
      "outputs": [
        {
          "output_type": "stream",
          "text": [
            "TensorFlow is already loaded. Please restart the runtime to change versions.\n"
          ],
          "name": "stdout"
        }
      ]
    },
    {
      "cell_type": "code",
      "metadata": {
        "id": "ShhTRkYJ5pbG",
        "colab_type": "code",
        "colab": {
          "base_uri": "https://localhost:8080/",
          "height": 34
        },
        "outputId": "12580695-0e1f-4567-9273-e2ac45f6acad"
      },
      "source": [
        "  import tensorflow as tf\n",
        "  print(tf.__version__)"
      ],
      "execution_count": 3,
      "outputs": [
        {
          "output_type": "stream",
          "text": [
            "2.2.0\n"
          ],
          "name": "stdout"
        }
      ]
    },
    {
      "cell_type": "markdown",
      "metadata": {
        "id": "alSDF-rb5tIP",
        "colab_type": "text"
      },
      "source": [
        "## [3]  프로그램 설치와 버전 확인하기"
      ]
    },
    {
      "cell_type": "markdown",
      "metadata": {
        "id": "InhPa0jU6oQY",
        "colab_type": "text"
      },
      "source": [
        "### 1> 파이썬 라이브러리 설치 목록 확인하기\n",
        "\n",
        "컴퓨터에 설치되어 있는 패키지들을 확인할 수 있습니다."
      ]
    },
    {
      "cell_type": "code",
      "metadata": {
        "id": "1-xlQNY46uOi",
        "colab_type": "code",
        "colab": {
          "base_uri": "https://localhost:8080/",
          "height": 1000
        },
        "outputId": "78bf8df4-17fb-4e7f-a462-14d226300c6e"
      },
      "source": [
        "!pip list"
      ],
      "execution_count": 4,
      "outputs": [
        {
          "output_type": "stream",
          "text": [
            "Package                  Version        \n",
            "------------------------ ---------------\n",
            "absl-py                  0.9.0          \n",
            "alabaster                0.7.12         \n",
            "albumentations           0.1.12         \n",
            "altair                   4.1.0          \n",
            "asgiref                  3.2.10         \n",
            "astor                    0.8.1          \n",
            "astropy                  4.0.1.post1    \n",
            "astunparse               1.6.3          \n",
            "atari-py                 0.2.6          \n",
            "atomicwrites             1.4.0          \n",
            "attrs                    19.3.0         \n",
            "audioread                2.1.8          \n",
            "autograd                 1.3            \n",
            "Babel                    2.8.0          \n",
            "backcall                 0.2.0          \n",
            "beautifulsoup4           4.6.3          \n",
            "bleach                   3.1.5          \n",
            "blis                     0.4.1          \n",
            "bokeh                    2.1.1          \n",
            "boto                     2.49.0         \n",
            "boto3                    1.14.30        \n",
            "botocore                 1.17.30        \n",
            "Bottleneck               1.3.2          \n",
            "branca                   0.4.1          \n",
            "bs4                      0.0.1          \n",
            "CacheControl             0.12.6         \n",
            "cachetools               4.1.1          \n",
            "catalogue                1.0.0          \n",
            "certifi                  2020.6.20      \n",
            "cffi                     1.14.1         \n",
            "chainer                  7.4.0          \n",
            "chardet                  3.0.4          \n",
            "click                    7.1.2          \n",
            "cloudpickle              1.3.0          \n",
            "cmake                    3.12.0         \n",
            "cmdstanpy                0.4.0          \n",
            "colorlover               0.3.0          \n",
            "community                1.0.0b1        \n",
            "contextlib2              0.5.5          \n",
            "convertdate              2.2.1          \n",
            "coverage                 3.7.1          \n",
            "coveralls                0.5            \n",
            "crcmod                   1.7            \n",
            "cufflinks                0.17.3         \n",
            "cupy-cuda101             7.4.0          \n",
            "cvxopt                   1.2.5          \n",
            "cvxpy                    1.0.31         \n",
            "cycler                   0.10.0         \n",
            "cymem                    2.0.3          \n",
            "Cython                   0.29.21        \n",
            "daft                     0.0.4          \n",
            "dask                     2.12.0         \n",
            "dataclasses              0.7            \n",
            "datascience              0.10.6         \n",
            "decorator                4.4.2          \n",
            "defusedxml               0.6.0          \n",
            "descartes                1.1.0          \n",
            "dill                     0.3.2          \n",
            "distributed              1.25.3         \n",
            "Django                   3.0.8          \n",
            "dlib                     19.18.0        \n",
            "docopt                   0.6.2          \n",
            "docutils                 0.15.2         \n",
            "dopamine-rl              1.0.5          \n",
            "earthengine-api          0.1.228        \n",
            "easydict                 1.9            \n",
            "ecos                     2.0.7.post1    \n",
            "editdistance             0.5.3          \n",
            "en-core-web-sm           2.2.5          \n",
            "entrypoints              0.3            \n",
            "ephem                    3.7.7.1        \n",
            "et-xmlfile               1.0.1          \n",
            "fa2                      0.3.5          \n",
            "fancyimpute              0.4.3          \n",
            "fastai                   1.0.61         \n",
            "fastdtw                  0.3.4          \n",
            "fastprogress             0.2.4          \n",
            "fastrlock                0.5            \n",
            "fbprophet                0.6            \n",
            "feather-format           0.4.1          \n",
            "featuretools             0.4.1          \n",
            "filelock                 3.0.12         \n",
            "firebase-admin           4.1.0          \n",
            "fix-yahoo-finance        0.0.22         \n",
            "Flask                    1.1.2          \n",
            "folium                   0.8.3          \n",
            "fsspec                   0.7.4          \n",
            "future                   0.16.0         \n",
            "gast                     0.3.3          \n",
            "GDAL                     2.2.2          \n",
            "gdown                    3.6.4          \n",
            "gensim                   3.6.0          \n",
            "geographiclib            1.50           \n",
            "geopy                    1.17.0         \n",
            "gin-config               0.3.0          \n",
            "glob2                    0.7            \n",
            "google                   2.0.3          \n",
            "google-api-core          1.16.0         \n",
            "google-api-python-client 1.7.12         \n",
            "google-auth              1.17.2         \n",
            "google-auth-httplib2     0.0.4          \n",
            "google-auth-oauthlib     0.4.1          \n",
            "google-cloud-bigquery    1.21.0         \n",
            "google-cloud-core        1.0.3          \n",
            "google-cloud-datastore   1.8.0          \n",
            "google-cloud-firestore   1.7.0          \n",
            "google-cloud-language    1.2.0          \n",
            "google-cloud-storage     1.18.1         \n",
            "google-cloud-translate   1.5.0          \n",
            "google-colab             1.0.0          \n",
            "google-pasta             0.2.0          \n",
            "google-resumable-media   0.4.1          \n",
            "googleapis-common-protos 1.52.0         \n",
            "googledrivedownloader    0.4            \n",
            "graphviz                 0.10.1         \n",
            "grpcio                   1.30.0         \n",
            "gspread                  3.0.1          \n",
            "gspread-dataframe        3.0.7          \n",
            "gym                      0.17.2         \n",
            "h5py                     2.10.0         \n",
            "HeapDict                 1.0.1          \n",
            "holidays                 0.9.12         \n",
            "holoviews                1.13.3         \n",
            "html5lib                 1.0.1          \n",
            "httpimport               0.5.18         \n",
            "httplib2                 0.17.4         \n",
            "httplib2shim             0.0.3          \n",
            "humanize                 0.5.1          \n",
            "hyperopt                 0.1.2          \n",
            "ideep4py                 2.0.0.post3    \n",
            "idna                     2.10           \n",
            "image                    1.5.32         \n",
            "imageio                  2.4.1          \n",
            "imagesize                1.2.0          \n",
            "imbalanced-learn         0.4.3          \n",
            "imblearn                 0.0            \n",
            "imgaug                   0.2.9          \n",
            "importlib-metadata       1.7.0          \n",
            "imutils                  0.5.3          \n",
            "inflect                  2.1.0          \n",
            "iniconfig                1.0.0          \n",
            "intel-openmp             2020.0.133     \n",
            "intervaltree             2.1.0          \n",
            "ipykernel                4.10.1         \n",
            "ipython                  5.5.0          \n",
            "ipython-genutils         0.2.0          \n",
            "ipython-sql              0.3.9          \n",
            "ipywidgets               7.5.1          \n",
            "itsdangerous             1.1.0          \n",
            "jax                      0.1.73         \n",
            "jaxlib                   0.1.52         \n",
            "jdcal                    1.4.1          \n",
            "jedi                     0.17.2         \n",
            "jieba                    0.42.1         \n",
            "Jinja2                   2.11.2         \n",
            "jmespath                 0.10.0         \n",
            "joblib                   0.16.0         \n",
            "jpeg4py                  0.1.4          \n",
            "jsonschema               2.6.0          \n",
            "jupyter                  1.0.0          \n",
            "jupyter-client           5.3.5          \n",
            "jupyter-console          5.2.0          \n",
            "jupyter-core             4.6.3          \n",
            "kaggle                   1.5.6          \n",
            "kapre                    0.1.3.1        \n",
            "Keras                    2.3.1          \n",
            "Keras-Applications       1.0.8          \n",
            "Keras-Preprocessing      1.1.2          \n",
            "keras-vis                0.4.1          \n",
            "kiwisolver               1.2.0          \n",
            "knnimpute                0.1.0          \n",
            "librosa                  0.6.3          \n",
            "lightgbm                 2.2.3          \n",
            "llvmlite                 0.31.0         \n",
            "lmdb                     0.98           \n",
            "lucid                    0.3.8          \n",
            "LunarCalendar            0.0.9          \n",
            "lxml                     4.2.6          \n",
            "Markdown                 3.2.2          \n",
            "MarkupSafe               1.1.1          \n",
            "matplotlib               3.2.2          \n",
            "matplotlib-venn          0.11.5         \n",
            "missingno                0.4.2          \n",
            "mistune                  0.8.4          \n",
            "mizani                   0.6.0          \n",
            "mkl                      2019.0         \n",
            "mlxtend                  0.14.0         \n",
            "more-itertools           8.4.0          \n",
            "moviepy                  0.2.3.5        \n",
            "mpmath                   1.1.0          \n",
            "msgpack                  1.0.0          \n",
            "multiprocess             0.70.10        \n",
            "multitasking             0.0.9          \n",
            "murmurhash               1.0.2          \n",
            "music21                  5.5.0          \n",
            "natsort                  5.5.0          \n",
            "nbconvert                5.6.1          \n",
            "nbformat                 5.0.7          \n",
            "networkx                 2.4            \n",
            "nibabel                  3.0.2          \n",
            "nltk                     3.2.5          \n",
            "notebook                 5.3.1          \n",
            "np-utils                 0.5.12.1       \n",
            "numba                    0.48.0         \n",
            "numexpr                  2.7.1          \n",
            "numpy                    1.18.5         \n",
            "nvidia-ml-py3            7.352.0        \n",
            "oauth2client             4.1.3          \n",
            "oauthlib                 3.1.0          \n",
            "okgrade                  0.4.3          \n",
            "opencv-contrib-python    4.1.2.30       \n",
            "opencv-python            4.1.2.30       \n",
            "openpyxl                 2.5.9          \n",
            "opt-einsum               3.3.0          \n",
            "osqp                     0.6.1          \n",
            "packaging                20.4           \n",
            "palettable               3.3.0          \n",
            "pandas                   1.0.5          \n",
            "pandas-datareader        0.8.1          \n",
            "pandas-gbq               0.11.0         \n",
            "pandas-profiling         1.4.1          \n",
            "pandocfilters            1.4.2          \n",
            "panel                    0.9.7          \n",
            "param                    1.9.3          \n",
            "parso                    0.7.1          \n",
            "pathlib                  1.0.1          \n",
            "patsy                    0.5.1          \n",
            "pexpect                  4.8.0          \n",
            "pickleshare              0.7.5          \n",
            "Pillow                   7.0.0          \n",
            "pip                      19.3.1         \n",
            "pip-tools                4.5.1          \n",
            "plac                     1.1.3          \n",
            "plotly                   4.4.1          \n",
            "plotnine                 0.6.0          \n",
            "pluggy                   0.7.1          \n",
            "portpicker               1.3.1          \n",
            "prefetch-generator       1.0.1          \n",
            "preshed                  3.0.2          \n",
            "prettytable              0.7.2          \n",
            "progressbar2             3.38.0         \n",
            "prometheus-client        0.8.0          \n",
            "promise                  2.3            \n",
            "prompt-toolkit           1.0.18         \n",
            "protobuf                 3.12.2         \n",
            "psutil                   5.4.8          \n",
            "psycopg2                 2.7.6.1        \n",
            "ptyprocess               0.6.0          \n",
            "py                       1.9.0          \n",
            "pyarrow                  0.14.1         \n",
            "pyasn1                   0.4.8          \n",
            "pyasn1-modules           0.2.8          \n",
            "pycocotools              2.0.1          \n",
            "pycparser                2.20           \n",
            "pyct                     0.4.6          \n",
            "pydata-google-auth       1.1.0          \n",
            "pydot                    1.3.0          \n",
            "pydot-ng                 2.0.0          \n",
            "pydotplus                2.0.2          \n",
            "PyDrive                  1.3.1          \n",
            "pyemd                    0.5.1          \n",
            "pyglet                   1.5.0          \n",
            "Pygments                 2.1.3          \n",
            "pygobject                3.26.1         \n",
            "pymc3                    3.7            \n",
            "PyMeeus                  0.3.7          \n",
            "pymongo                  3.10.1         \n",
            "pymystem3                0.2.0          \n",
            "PyOpenGL                 3.1.5          \n",
            "pyparsing                2.4.7          \n",
            "pyrsistent               0.16.0         \n",
            "pysndfile                1.3.8          \n",
            "PySocks                  1.7.1          \n",
            "pystan                   2.19.1.1       \n",
            "pytest                   3.6.4          \n",
            "python-apt               1.6.5+ubuntu0.3\n",
            "python-chess             0.23.11        \n",
            "python-dateutil          2.8.1          \n",
            "python-louvain           0.14           \n",
            "python-slugify           4.0.1          \n",
            "python-utils             2.4.0          \n",
            "pytz                     2018.9         \n",
            "pyviz-comms              0.7.6          \n",
            "PyWavelets               1.1.1          \n",
            "PyYAML                   3.13           \n",
            "pyzmq                    19.0.1         \n",
            "qtconsole                4.7.5          \n",
            "QtPy                     1.9.0          \n",
            "regex                    2019.12.20     \n",
            "requests                 2.23.0         \n",
            "requests-oauthlib        1.3.0          \n",
            "resampy                  0.2.2          \n",
            "retrying                 1.3.3          \n",
            "rpy2                     3.2.7          \n",
            "rsa                      4.6            \n",
            "s3fs                     0.4.2          \n",
            "s3transfer               0.3.3          \n",
            "scikit-image             0.16.2         \n",
            "scikit-learn             0.22.2.post1   \n",
            "scipy                    1.4.1          \n",
            "screen-resolution-extra  0.0.0          \n",
            "scs                      2.1.2          \n",
            "seaborn                  0.10.1         \n",
            "Send2Trash               1.5.0          \n",
            "setuptools               49.2.0         \n",
            "setuptools-git           1.2            \n",
            "Shapely                  1.7.0          \n",
            "simplegeneric            0.8.1          \n",
            "six                      1.15.0         \n",
            "sklearn                  0.0            \n",
            "sklearn-pandas           1.8.0          \n",
            "smart-open               2.1.0          \n",
            "snowballstemmer          2.0.0          \n",
            "sortedcontainers         2.2.2          \n",
            "spacy                    2.2.4          \n",
            "Sphinx                   1.8.5          \n",
            "sphinxcontrib-websupport 1.2.3          \n",
            "SQLAlchemy               1.3.18         \n",
            "sqlparse                 0.3.1          \n",
            "srsly                    1.0.2          \n",
            "statsmodels              0.10.2         \n",
            "sympy                    1.1.1          \n",
            "tables                   3.4.4          \n",
            "tabulate                 0.8.7          \n",
            "tblib                    1.7.0          \n",
            "tensorboard              2.2.2          \n",
            "tensorboard-plugin-wit   1.7.0          \n",
            "tensorboardcolab         0.0.22         \n",
            "tensorflow               2.2.0          \n",
            "tensorflow-addons        0.8.3          \n",
            "tensorflow-datasets      2.1.0          \n",
            "tensorflow-estimator     2.2.0          \n",
            "tensorflow-gcs-config    2.2.0          \n",
            "tensorflow-hub           0.8.0          \n",
            "tensorflow-metadata      0.22.2         \n",
            "tensorflow-privacy       0.2.2          \n",
            "tensorflow-probability   0.10.0         \n",
            "termcolor                1.1.0          \n",
            "terminado                0.8.3          \n",
            "testpath                 0.4.4          \n",
            "text-unidecode           1.3            \n",
            "textblob                 0.15.3         \n",
            "textgenrnn               1.4.1          \n",
            "Theano                   1.0.5          \n",
            "thinc                    7.4.0          \n",
            "tifffile                 2020.7.24      \n",
            "toml                     0.10.1         \n",
            "toolz                    0.10.0         \n",
            "torch                    1.6.0+cu101    \n",
            "torchsummary             1.5.1          \n",
            "torchtext                0.3.1          \n",
            "torchvision              0.7.0+cu101    \n",
            "tornado                  5.1.1          \n",
            "tqdm                     4.41.1         \n",
            "traitlets                4.3.3          \n",
            "tweepy                   3.6.0          \n",
            "typeguard                2.7.1          \n",
            "typing-extensions        3.7.4.2        \n",
            "tzlocal                  1.5.1          \n",
            "umap-learn               0.4.6          \n",
            "uritemplate              3.0.1          \n",
            "urllib3                  1.24.3         \n",
            "vega-datasets            0.8.0          \n",
            "wasabi                   0.7.1          \n",
            "wcwidth                  0.2.5          \n",
            "webencodings             0.5.1          \n",
            "Werkzeug                 1.0.1          \n",
            "wheel                    0.34.2         \n",
            "widgetsnbextension       3.5.1          \n",
            "wordcloud                1.5.0          \n",
            "wrapt                    1.12.1         \n",
            "xarray                   0.15.1         \n",
            "xgboost                  0.90           \n",
            "xkit                     0.0.0          \n",
            "xlrd                     1.1.0          \n",
            "xlwt                     1.3.0          \n",
            "yellowbrick              0.9.1          \n",
            "zict                     2.0.0          \n",
            "zipp                     3.1.0          \n"
          ],
          "name": "stdout"
        }
      ]
    },
    {
      "cell_type": "markdown",
      "metadata": {
        "id": "Upy3QdTU7S_W",
        "colab_type": "text"
      },
      "source": [
        "#### 2>  설치 패키지들 중에서 특정 패키지가 필터링하기(grep)"
      ]
    },
    {
      "cell_type": "code",
      "metadata": {
        "id": "VmaYb4kb7LOT",
        "colab_type": "code",
        "colab": {
          "base_uri": "https://localhost:8080/",
          "height": 170
        },
        "outputId": "acb08c32-4ef3-4e5b-8cb1-1df7896252f8"
      },
      "source": [
        "#\n",
        "# tensorflow 확인하기\n",
        "#\n",
        "! pip list | grep tensorflow"
      ],
      "execution_count": 5,
      "outputs": [
        {
          "output_type": "stream",
          "text": [
            "tensorflow               2.2.0          \n",
            "tensorflow-addons        0.8.3          \n",
            "tensorflow-datasets      2.1.0          \n",
            "tensorflow-estimator     2.2.0          \n",
            "tensorflow-gcs-config    2.2.0          \n",
            "tensorflow-hub           0.8.0          \n",
            "tensorflow-metadata      0.22.2         \n",
            "tensorflow-privacy       0.2.2          \n",
            "tensorflow-probability   0.10.0         \n"
          ],
          "name": "stdout"
        }
      ]
    },
    {
      "cell_type": "code",
      "metadata": {
        "id": "vap33ROs7OSt",
        "colab_type": "code",
        "colab": {
          "base_uri": "https://localhost:8080/",
          "height": 68
        },
        "outputId": "970fefd0-0ae2-4b11-a3bd-1b37d06a01e4"
      },
      "source": [
        "#\n",
        "# Keras Package 확인하기\n",
        "#\n",
        "!pip list | grep Keras"
      ],
      "execution_count": 6,
      "outputs": [
        {
          "output_type": "stream",
          "text": [
            "Keras                    2.3.1          \n",
            "Keras-Applications       1.0.8          \n",
            "Keras-Preprocessing      1.1.2          \n"
          ],
          "name": "stdout"
        }
      ]
    },
    {
      "cell_type": "code",
      "metadata": {
        "id": "uwLbIt437akA",
        "colab_type": "code",
        "colab": {
          "base_uri": "https://localhost:8080/",
          "height": 102
        },
        "outputId": "dc26e106-ddb3-4e1b-dc68-aa43605df4d5"
      },
      "source": [
        "#\n",
        "# pandas 패키지 확인하기\n",
        "#\n",
        "! pip list | grep pandas"
      ],
      "execution_count": 7,
      "outputs": [
        {
          "output_type": "stream",
          "text": [
            "pandas                   1.0.5          \n",
            "pandas-datareader        0.8.1          \n",
            "pandas-gbq               0.11.0         \n",
            "pandas-profiling         1.4.1          \n",
            "sklearn-pandas           1.8.0          \n"
          ],
          "name": "stdout"
        }
      ]
    },
    {
      "cell_type": "code",
      "metadata": {
        "id": "rqakJiPk7uPt",
        "colab_type": "code",
        "colab": {
          "base_uri": "https://localhost:8080/",
          "height": 34
        },
        "outputId": "629c1a1e-edad-4581-965f-81053b71d48a"
      },
      "source": [
        "#\n",
        "# numpy 패키지 확인하기\n",
        "#\n",
        "! pip list | grep numpy"
      ],
      "execution_count": 8,
      "outputs": [
        {
          "output_type": "stream",
          "text": [
            "numpy                    1.18.5         \n"
          ],
          "name": "stdout"
        }
      ]
    },
    {
      "cell_type": "code",
      "metadata": {
        "id": "oTME5Wda9IDa",
        "colab_type": "code",
        "colab": {
          "base_uri": "https://localhost:8080/",
          "height": 34
        },
        "outputId": "05fa994a-4f2f-48e5-827b-a9b657eeb63c"
      },
      "source": [
        "#\n",
        "# numpy 패키지 확인하기\n",
        "#\n",
        "! pip list | grep scikit-learn"
      ],
      "execution_count": 9,
      "outputs": [
        {
          "output_type": "stream",
          "text": [
            "scikit-learn             0.22.2.post1   \n"
          ],
          "name": "stdout"
        }
      ]
    },
    {
      "cell_type": "markdown",
      "metadata": {
        "id": "E9E9wRht9L2n",
        "colab_type": "text"
      },
      "source": [
        "#### 3> 파이썬 버전 확인하기"
      ]
    },
    {
      "cell_type": "code",
      "metadata": {
        "id": "FGrRlsII9i0X",
        "colab_type": "code",
        "colab": {
          "base_uri": "https://localhost:8080/",
          "height": 34
        },
        "outputId": "7cfb9a87-0cc0-42eb-a44b-21d961a5cb7f"
      },
      "source": [
        "!python --version"
      ],
      "execution_count": 10,
      "outputs": [
        {
          "output_type": "stream",
          "text": [
            "Python 3.6.9\n"
          ],
          "name": "stdout"
        }
      ]
    },
    {
      "cell_type": "markdown",
      "metadata": {
        "id": "-U07ZcWZ9lUx",
        "colab_type": "text"
      },
      "source": [
        "## [4] 프로그램 환경변수 확인하기\n",
        "\n",
        "Windows의 PATH설정과 동일하며, 프로그램의 호출을 위한 경로 확인을 하는데 유효합니다."
      ]
    },
    {
      "cell_type": "code",
      "metadata": {
        "id": "P_lEbeK49veM",
        "colab_type": "code",
        "colab": {
          "base_uri": "https://localhost:8080/",
          "height": 54
        },
        "outputId": "26199384-eeec-4beb-9621-c1c9a2574898"
      },
      "source": [
        "import os\n",
        "\n",
        "print(os.environ)"
      ],
      "execution_count": 11,
      "outputs": [
        {
          "output_type": "stream",
          "text": [
            "environ({'NO_GCE_CHECK': 'True', 'GCS_READ_CACHE_BLOCK_SIZE_MB': '16', 'CLOUDSDK_CONFIG': '/content/.config', '__EGL_VENDOR_LIBRARY_DIRS': '/usr/lib64-nvidia:/usr/share/glvnd/egl_vendor.d/', 'CUDA_VERSION': '10.1.243', 'PATH': '/usr/local/nvidia/bin:/usr/local/cuda/bin:/usr/local/sbin:/usr/local/bin:/usr/sbin:/usr/bin:/sbin:/bin:/tools/node/bin:/tools/google-cloud-sdk/bin:/opt/bin', 'HOME': '/root', 'LD_LIBRARY_PATH': '/usr/lib64-nvidia', 'LANG': 'en_US.UTF-8', 'SHELL': '/bin/bash', 'LIBRARY_PATH': '/usr/local/cuda/lib64/stubs', 'CUDA_PKG_VERSION': '10-1=10.1.243-1', 'SHLVL': '1', 'GCE_METADATA_TIMEOUT': '0', 'NCCL_VERSION': '2.4.8', 'NVIDIA_VISIBLE_DEVICES': 'all', 'TF_FORCE_GPU_ALLOW_GROWTH': 'true', 'DEBIAN_FRONTEND': 'noninteractive', 'CUDNN_VERSION': '7.6.5.32', 'LAST_FORCED_REBUILD': '20200729', 'JPY_PARENT_PID': '23', 'PYTHONPATH': '/env/python', 'DATALAB_SETTINGS_OVERRIDES': '{\"kernelManagerProxyPort\":6000,\"kernelManagerProxyHost\":\"172.28.0.3\",\"jupyterArgs\":[\"--ip=\\\\\"172.28.0.2\\\\\"\"]}', 'ENV': '/root/.bashrc', 'GLIBCXX_FORCE_NEW': '1', 'NVIDIA_DRIVER_CAPABILITIES': 'compute,utility', '_': '/tools/node/bin/node', 'LD_PRELOAD': '/usr/lib/x86_64-linux-gnu/libtcmalloc.so.4', 'NVIDIA_REQUIRE_CUDA': 'cuda>=10.1 brand=tesla,driver>=384,driver<385 brand=tesla,driver>=396,driver<397 brand=tesla,driver>=410,driver<411', 'OLDPWD': '/', 'HOSTNAME': 'dd699a4564b6', 'COLAB_GPU': '1', 'PWD': '/', 'CLOUDSDK_PYTHON': 'python3', 'GLIBCPP_FORCE_NEW': '1', 'PYTHONWARNINGS': 'ignore:::pip._internal.cli.base_command', 'TBE_CREDS_ADDR': '172.28.0.1:8008', 'TERM': 'xterm-color', 'CLICOLOR': '1', 'PAGER': 'cat', 'GIT_PAGER': 'cat', 'MPLBACKEND': 'module://ipykernel.pylab.backend_inline'})\n"
          ],
          "name": "stdout"
        }
      ]
    },
    {
      "cell_type": "code",
      "metadata": {
        "id": "ugki9qB4-VxZ",
        "colab_type": "code",
        "colab": {
          "base_uri": "https://localhost:8080/",
          "height": 785
        },
        "outputId": "fe6c7fd9-e2e8-410d-fa8d-8cad46842bb0"
      },
      "source": [
        "# pprint로 os.environ의 값들을 출력하\n",
        "\n",
        "import pprint\n",
        "\n",
        "pp = pprint.PrettyPrinter(depth=3)\n",
        "pp.pprint(dict(os.environ))"
      ],
      "execution_count": 12,
      "outputs": [
        {
          "output_type": "stream",
          "text": [
            "{'CLICOLOR': '1',\n",
            " 'CLOUDSDK_CONFIG': '/content/.config',\n",
            " 'CLOUDSDK_PYTHON': 'python3',\n",
            " 'COLAB_GPU': '1',\n",
            " 'CUDA_PKG_VERSION': '10-1=10.1.243-1',\n",
            " 'CUDA_VERSION': '10.1.243',\n",
            " 'CUDNN_VERSION': '7.6.5.32',\n",
            " 'DATALAB_SETTINGS_OVERRIDES': '{\"kernelManagerProxyPort\":6000,\"kernelManagerProxyHost\":\"172.28.0.3\",\"jupyterArgs\":[\"--ip=\\\\\"172.28.0.2\\\\\"\"]}',\n",
            " 'DEBIAN_FRONTEND': 'noninteractive',\n",
            " 'ENV': '/root/.bashrc',\n",
            " 'GCE_METADATA_TIMEOUT': '0',\n",
            " 'GCS_READ_CACHE_BLOCK_SIZE_MB': '16',\n",
            " 'GIT_PAGER': 'cat',\n",
            " 'GLIBCPP_FORCE_NEW': '1',\n",
            " 'GLIBCXX_FORCE_NEW': '1',\n",
            " 'HOME': '/root',\n",
            " 'HOSTNAME': 'dd699a4564b6',\n",
            " 'JPY_PARENT_PID': '23',\n",
            " 'LANG': 'en_US.UTF-8',\n",
            " 'LAST_FORCED_REBUILD': '20200729',\n",
            " 'LD_LIBRARY_PATH': '/usr/lib64-nvidia',\n",
            " 'LD_PRELOAD': '/usr/lib/x86_64-linux-gnu/libtcmalloc.so.4',\n",
            " 'LIBRARY_PATH': '/usr/local/cuda/lib64/stubs',\n",
            " 'MPLBACKEND': 'module://ipykernel.pylab.backend_inline',\n",
            " 'NCCL_VERSION': '2.4.8',\n",
            " 'NO_GCE_CHECK': 'True',\n",
            " 'NVIDIA_DRIVER_CAPABILITIES': 'compute,utility',\n",
            " 'NVIDIA_REQUIRE_CUDA': 'cuda>=10.1 brand=tesla,driver>=384,driver<385 '\n",
            "                        'brand=tesla,driver>=396,driver<397 '\n",
            "                        'brand=tesla,driver>=410,driver<411',\n",
            " 'NVIDIA_VISIBLE_DEVICES': 'all',\n",
            " 'OLDPWD': '/',\n",
            " 'PAGER': 'cat',\n",
            " 'PATH': '/usr/local/nvidia/bin:/usr/local/cuda/bin:/usr/local/sbin:/usr/local/bin:/usr/sbin:/usr/bin:/sbin:/bin:/tools/node/bin:/tools/google-cloud-sdk/bin:/opt/bin',\n",
            " 'PWD': '/',\n",
            " 'PYTHONPATH': '/env/python',\n",
            " 'PYTHONWARNINGS': 'ignore:::pip._internal.cli.base_command',\n",
            " 'SHELL': '/bin/bash',\n",
            " 'SHLVL': '1',\n",
            " 'TBE_CREDS_ADDR': '172.28.0.1:8008',\n",
            " 'TERM': 'xterm-color',\n",
            " 'TF_FORCE_GPU_ALLOW_GROWTH': 'true',\n",
            " '_': '/tools/node/bin/node',\n",
            " '__EGL_VENDOR_LIBRARY_DIRS': '/usr/lib64-nvidia:/usr/share/glvnd/egl_vendor.d/'}\n"
          ],
          "name": "stdout"
        }
      ]
    },
    {
      "cell_type": "code",
      "metadata": {
        "id": "98U7C1BC-xF_",
        "colab_type": "code",
        "colab": {
          "base_uri": "https://localhost:8080/",
          "height": 204
        },
        "outputId": "9491992f-6e3c-4437-fad4-12ef48fa9aa9"
      },
      "source": [
        "#\n",
        "# PATH변수를 확인하기\n",
        "#\n",
        "\n",
        "os.environ['PATH'].split(':')"
      ],
      "execution_count": 13,
      "outputs": [
        {
          "output_type": "execute_result",
          "data": {
            "text/plain": [
              "['/usr/local/nvidia/bin',\n",
              " '/usr/local/cuda/bin',\n",
              " '/usr/local/sbin',\n",
              " '/usr/local/bin',\n",
              " '/usr/sbin',\n",
              " '/usr/bin',\n",
              " '/sbin',\n",
              " '/bin',\n",
              " '/tools/node/bin',\n",
              " '/tools/google-cloud-sdk/bin',\n",
              " '/opt/bin']"
            ]
          },
          "metadata": {
            "tags": []
          },
          "execution_count": 13
        }
      ]
    },
    {
      "cell_type": "code",
      "metadata": {
        "id": "OnRhBGM__u5f",
        "colab_type": "code",
        "colab": {
          "base_uri": "https://localhost:8080/",
          "height": 35
        },
        "outputId": "c7615c6d-1000-4af4-8815-458eeedfc061"
      },
      "source": [
        "# python 경로 확인하기\n",
        "\n",
        "os.environ['PYTHONPATH']"
      ],
      "execution_count": 14,
      "outputs": [
        {
          "output_type": "execute_result",
          "data": {
            "application/vnd.google.colaboratory.intrinsic+json": {
              "type": "string"
            },
            "text/plain": [
              "'/env/python'"
            ]
          },
          "metadata": {
            "tags": []
          },
          "execution_count": 14
        }
      ]
    },
    {
      "cell_type": "code",
      "metadata": {
        "id": "4Dyd6H_nR2lD",
        "colab_type": "code",
        "colab": {}
      },
      "source": [
        ""
      ],
      "execution_count": null,
      "outputs": []
    }
  ]
}