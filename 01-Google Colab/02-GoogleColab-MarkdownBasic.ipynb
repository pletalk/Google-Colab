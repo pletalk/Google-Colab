{
  "nbformat": 4,
  "nbformat_minor": 0,
  "metadata": {
    "colab": {
      "name": "02-GoogleColab-MarkdownBasic.ipynb",
      "provenance": [],
      "collapsed_sections": [],
      "toc_visible": true,
      "authorship_tag": "ABX9TyPINYf/uReITJ6ojhKULCZ6",
      "include_colab_link": true
    },
    "kernelspec": {
      "name": "python3",
      "display_name": "Python 3"
    },
    "accelerator": "GPU"
  },
  "cells": [
    {
      "cell_type": "markdown",
      "metadata": {
        "id": "view-in-github",
        "colab_type": "text"
      },
      "source": [
        "<a href=\"https://colab.research.google.com/github/pletalk/EMPV-RPI-AutoDriving/blob/master/01-Google%20Colab/02-GoogleColab-MarkdownBasic.ipynb\" target=\"_parent\"><img src=\"https://colab.research.google.com/assets/colab-badge.svg\" alt=\"Open In Colab\"/></a>"
      ]
    },
    {
      "cell_type": "markdown",
      "metadata": {
        "id": "kaai3AO_fMVW",
        "colab_type": "text"
      },
      "source": [
        "# 구글 Colab의 연구노트 영역 작성 예시\n",
        "\n",
        "@2020-06-07/Ignitespark"
      ]
    },
    {
      "cell_type": "markdown",
      "metadata": {
        "id": "xQy-Wd3nfZH2",
        "colab_type": "text"
      },
      "source": [
        "## [1] 제목설정하기\n",
        "\n",
        "Google Colab에서는 Markdown을 지원합니다. Markdown을 사용해서 노트작성이 가능합니다.\n",
        "\n",
        "제목을 작성할 때 앞에 # 기호를 넣어서 작성하면 제목의 크기를 다르게 설정할 수 있습니다.\n",
        "```\n",
        "# 제목1\n",
        "## 제목2\n",
        "### 제목3\n",
        "#### 제목4\n",
        "##### 제목5\n",
        "```\n",
        "\n"
      ]
    },
    {
      "cell_type": "markdown",
      "metadata": {
        "id": "ddfLaoV0fse5",
        "colab_type": "text"
      },
      "source": [
        "# 제목1\n",
        "## 제목2\n",
        "### 제목3\n",
        "#### 제목4\n",
        "##### 제목5"
      ]
    },
    {
      "cell_type": "markdown",
      "metadata": {
        "id": "kaxSYapXgI1H",
        "colab_type": "text"
      },
      "source": [
        "## [2] 목록형으로 작성하기\n",
        "\n",
        "* 을 사용해서 목록을 작성하거나 1,2,3의 숫자로 작성이 가능합니다.\n",
        "\n",
        "```\n",
        "* 항목1\n",
        "   * 항목1-1\n",
        "   * 항목1-2\n",
        "* 항목2\n",
        "* 항목3\n",
        "\n",
        "1. 항목1\n",
        "   * 항목1-1\n",
        "   * 항목1-2\n",
        "2. 항목2\n",
        "```"
      ]
    },
    {
      "cell_type": "markdown",
      "metadata": {
        "id": "x7c1C1wHgfdt",
        "colab_type": "text"
      },
      "source": [
        "* 항목1\n",
        "   * 항목1-1\n",
        "   * 항목1-2\n",
        "* 항목2\n",
        "* 항목3\n",
        "\n",
        "---\n",
        "\n",
        "1. 항목1\n",
        "   * 항목1-1\n",
        "   * 항목1-2\n",
        "2. 항목2"
      ]
    },
    {
      "cell_type": "markdown",
      "metadata": {
        "id": "NGR6FQS6gm_N",
        "colab_type": "text"
      },
      "source": [
        "## [3] 하이퍼링크 추가\n",
        "\n",
        "```\n",
        "[네이버 홈페이지](https://www.naver.com)\n",
        "```"
      ]
    },
    {
      "cell_type": "markdown",
      "metadata": {
        "id": "sXbYAfhXhONo",
        "colab_type": "text"
      },
      "source": [
        "[네이버](https://www.naver.com)"
      ]
    },
    {
      "cell_type": "markdown",
      "metadata": {
        "id": "HKSdTU58MsNo",
        "colab_type": "text"
      },
      "source": [
        ""
      ]
    },
    {
      "cell_type": "markdown",
      "metadata": {
        "id": "ujGwklRihV1B",
        "colab_type": "text"
      },
      "source": [
        "## [4] 이미지 추가\n",
        "\n",
        "하이퍼링크를 추가하는 Markdown 형식에서 맨 앞에 !(느낌표)를 붙이면 이미지가 추가됩니다.\n",
        "\n",
        "괄호안의 내용은 이미지가 표시되지 않은 기기에서 이미지 대신에 텍스트로 표시됩니다.\n",
        "\n",
        "```\n",
        "![Ubuntu Logo](https://assets.ubuntu.com/v1/8dd99b80-ubuntu-logo14.png)\n",
        "```"
      ]
    },
    {
      "cell_type": "markdown",
      "metadata": {
        "id": "XxiCCBBXhTCz",
        "colab_type": "text"
      },
      "source": [
        "![Ubunto Logo](https://assets.ubuntu.com/v1/8dd99b80-ubuntu-logo14.png)"
      ]
    },
    {
      "cell_type": "markdown",
      "metadata": {
        "id": "5Of20VhnOOQE",
        "colab_type": "text"
      },
      "source": [
        ""
      ]
    },
    {
      "cell_type": "markdown",
      "metadata": {
        "id": "wkAdSch1jrJm",
        "colab_type": "text"
      },
      "source": [
        "\n",
        "\n",
        "```\n",
        "# 코드로 형식 지정됨\n",
        "```\n",
        "\n",
        "### <참고> 이미지 크기 변경하기\n",
        "\n",
        "Google Colab에서는 이미지 링크에 대해서 크기 조정이 불가합니다. 이미지의 크기를 변경해서 표시해야하는 경우, HTML에서 이미지 표시를 위한 tag인 <img></img>을 사용해서 width, height 속성값을 사용해서 크기를 변경할 수 있습니다. \n",
        "\n",
        "\n",
        "```\n",
        "<img src=\"https://assets.ubuntu.com/v1/8dd99b80-ubuntu-logo14.png\"  title=\"Ubuntu Logo\" width=\"200px\" height=\"100px\"/>\n",
        "```"
      ]
    },
    {
      "cell_type": "markdown",
      "metadata": {
        "id": "2c5mahylh7jo",
        "colab_type": "text"
      },
      "source": [
        "<img src=\"https://assets.ubuntu.com/v1/8dd99b80-ubuntu-logo14.png\"  title=\"Ubuntu Logo\" width=\"200px\" height=\"100px\"/>"
      ]
    },
    {
      "cell_type": "markdown",
      "metadata": {
        "id": "YoGLiCUoixud",
        "colab_type": "text"
      },
      "source": [
        "### [5] 코드추가하기\n",
        "\n",
        "코드설명을 텍스트 칸에 추가하기 위해서는 코드형식추가 (< >) 메뉴를 선택하거나 (```)를 사용합니다. 한줄짜리 코멘트나 코드를 추가하는 경우, 줄의 첫칸에 # 기호를 사용합니다.\n",
        "\n",
        "```\n",
        "import os\n",
        "import pprint\n",
        "import tensorflow as tf\n",
        "\n",
        "#\n",
        "# Google Colab에서 TPU장치 검색하기\n",
        "#\n",
        "if 'COLAB_TPU_ADDR' not in os.environ:\n",
        "    print('ERROR: Not connected to a TPU runtime; please see the first cell in this notebook for instructions!')\n",
        "else:\n",
        "    tpu_address = 'grpc://' + os.environ['COLAB_TPU_ADDR']\n",
        "    print ('TPU address is', tpu_address)\n",
        "\n",
        "with tf.compat.v1.Session(tpu_address) as session:\n",
        "    devices = session.list_devices()\n",
        "    \n",
        "print('TPU devices:')\n",
        "pprint.pprint(devices)\n",
        "```"
      ]
    },
    {
      "cell_type": "markdown",
      "metadata": {
        "id": "aea0teoUkwXU",
        "colab_type": "text"
      },
      "source": [
        "## [6] 글자/문장 서식 변경하기 \n",
        "\n",
        "이탤릭체, 볼드체, 취소선등을 아래와 같이 글자 앞뒤에 *, ~, _ 등을 사용해서 설정할 수 있습니다.\n",
        "\n",
        "```\n",
        "*italics* and _italics_\\\n",
        "**bold**\n",
        "~~strikethrough~~\n",
        "`monospace`\n",
        "```"
      ]
    },
    {
      "cell_type": "markdown",
      "metadata": {
        "id": "BiO5SpIXml9M",
        "colab_type": "text"
      },
      "source": [
        "*이텔릭체입니다* \n",
        "\n",
        "**볼드체입니다(굵은글씨)**\n",
        "\n",
        "~~취소선입니다~~\n",
        "\n",
        "`모노스페이스`"
      ]
    },
    {
      "cell_type": "markdown",
      "metadata": {
        "id": "jl1L_SULm3pi",
        "colab_type": "text"
      },
      "source": [
        "## [7] Latex 수학기호 사용\n",
        "\n",
        "$기호를 사용해서 수학기호를 사용할 수 있습니다.\n",
        "\n",
        "Latex의 수학기호입력에 대해서는 아래의 링크를 참고하세요.\n",
        "\n",
        "* [Latex - 기초따라하기](https://m.blog.naver.com/PostView.nhn?blogId=hsj2864&logNo=220753621984&proxyReferer=https:%2F%2Fwww.google.com%2F)\n",
        "\n",
        "```\n",
        "$\\sum(a+b)$\n",
        "```"
      ]
    },
    {
      "cell_type": "markdown",
      "metadata": {
        "id": "nWYSAbjQnBFs",
        "colab_type": "text"
      },
      "source": [
        "$\\sum(a+b)$"
      ]
    },
    {
      "cell_type": "markdown",
      "metadata": {
        "id": "ivvIVQrZn2D4",
        "colab_type": "text"
      },
      "source": [
        "## [7] 테이블(Table) 추가하기\n",
        "\n",
        "제목을 사용하고, 중간에 (:--- , :---: , ---: ) 를 추가해서 셀내에서의 정렬방식을 지정할 수 있습니다. -은 자리수를 나타냅니다. 많이 추가하면, 그만큼 공백이 표시됩니다.\n",
        "\n",
        "* :--- 왼쪽정렬\n",
        "* ---: 오른쪽 정렬\n",
        "* :---: 중앙 정렬\n",
        "\n",
        "```\n",
        "# 왼쪽으로 정렬하기\n",
        "| AA | BB   |\n",
        "|:------|:------|\n",
        "| aaaaa  | bbbbb| \n",
        "\n",
        "# 오른쪽으로 정렬하기\n",
        "| AA | BB   |\n",
        "|------:|------:|\n",
        "| aaaaa  | bbbbb| \n",
        "\n",
        "#중앙으로 정렬하기\n",
        "| AA | BB   |\n",
        "|:------:|:------:|\n",
        "| aaaaa  | bbbbb| \n",
        "```"
      ]
    },
    {
      "cell_type": "markdown",
      "metadata": {
        "id": "_7bLNGkSn5ZW",
        "colab_type": "text"
      },
      "source": [
        "\n",
        "| AA | BB   |\n",
        "|:------|:------|\n",
        "| aaaaa  | bbbbb| \n",
        "\n",
        "| AA | BB   |\n",
        "|------:|------:|\n",
        "| aaaaa  | bbbbb| \n",
        "\n",
        "| AA | BB   |\n",
        "|:------:|:------:|\n",
        "| aaaaa  | bbbbb| "
      ]
    }
  ]
}